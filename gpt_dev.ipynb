{
  "nbformat": 4,
  "nbformat_minor": 0,
  "metadata": {
    "colab": {
      "provenance": [],
      "include_colab_link": true
    },
    "kernelspec": {
      "name": "python3",
      "display_name": "Python 3"
    },
    "language_info": {
      "name": "python"
    }
  },
  "cells": [
    {
      "cell_type": "markdown",
      "metadata": {
        "id": "view-in-github",
        "colab_type": "text"
      },
      "source": [
        "<a href=\"https://colab.research.google.com/github/Vahid-Kh/NLP/blob/main/gpt_dev.ipynb\" target=\"_parent\"><img src=\"https://colab.research.google.com/assets/colab-badge.svg\" alt=\"Open In Colab\"/></a>"
      ]
    },
    {
      "cell_type": "markdown",
      "source": [
        "## Building a GPT\n",
        "\n",
        "Companion notebook to the [Zero To Hero](https://karpathy.ai/zero-to-hero.html) video on GPT."
      ],
      "metadata": {
        "id": "wJpXpmjEYC_T"
      }
    },
    {
      "cell_type": "code",
      "execution_count": 135,
      "metadata": {
        "colab": {
          "base_uri": "https://localhost:8080/"
        },
        "id": "h5hjCcLDr2WC",
        "outputId": "24e7a652-b895-4e1f-fd23-8c8f9ce03ae9"
      },
      "outputs": [
        {
          "output_type": "stream",
          "name": "stdout",
          "text": [
            "--2023-02-22 11:51:20--  https://github.com/Vahid-Kh/NLP/blob/da12adf98d303843e554adc71a4bd9ec1814bd93/test.txt\n",
            "Resolving github.com (github.com)... 20.27.177.113\n",
            "Connecting to github.com (github.com)|20.27.177.113|:443... connected.\n",
            "HTTP request sent, awaiting response... 200 OK\n",
            "Length: unspecified [text/html]\n",
            "Saving to: ‘test.txt.1’\n",
            "\n",
            "test.txt.1              [  <=>               ] 424.85K  1.73MB/s    in 0.2s    \n",
            "\n",
            "2023-02-22 11:51:20 (1.73 MB/s) - ‘test.txt.1’ saved [435045]\n",
            "\n"
          ]
        }
      ],
      "source": [
        "# We always start with a dataset to train on. Let's download the tiny shakespeare dataset\n",
        "!wget https://github.com/Vahid-Kh/NLP/blob/da12adf98d303843e554adc71a4bd9ec1814bd93/test.txt"
      ]
    },
    {
      "cell_type": "code",
      "source": [
        "# read it in to inspect it\n",
        "with open('/content/input.txt.1', 'r', encoding='utf-8') as f:\n",
        "    text = f.read()"
      ],
      "metadata": {
        "id": "O6medjfRsLD9"
      },
      "execution_count": 149,
      "outputs": []
    },
    {
      "cell_type": "code",
      "source": [
        "print(\"length of dataset in characters: \", len(text))"
      ],
      "metadata": {
        "colab": {
          "base_uri": "https://localhost:8080/"
        },
        "id": "6xWI_VyAsN8F",
        "outputId": "02e8cb01-51d2-4c06-d977-4dcdbbdcc12e"
      },
      "execution_count": 150,
      "outputs": [
        {
          "output_type": "stream",
          "name": "stdout",
          "text": [
            "length of dataset in characters:  4042155\n"
          ]
        }
      ]
    },
    {
      "cell_type": "code",
      "source": [
        "# let's look at the first 1000 characters\n",
        "print(text[:1000])\n",
        "import re\n",
        "text = re.sub(r'\\W+', ' ', text)\n",
        "chars_to_drop = \"ª¼ÂÃÎâ\"\n",
        "pattern = \"[\" + re.escape(chars_to_drop) + \"]\"\n",
        "text = re.sub(pattern, \"\", text)\n"
      ],
      "metadata": {
        "colab": {
          "base_uri": "https://localhost:8080/"
        },
        "id": "2c5V0FvqseE0",
        "outputId": "49159428-1180-433f-c73b-146147a6247e"
      },
      "execution_count": 173,
      "outputs": [
        {
          "output_type": "stream",
          "name": "stdout",
          "text": [
            "description HUMAN NECESSITIES AGRICULTURE FORESTRY ANIMAL HUSBANDRY HUNTING TRAPPING FISHING SOIL WORKING IN AGRICULTURE OR FORESTRY PARTS DETAILS OR ACCESSORIES OF AGRICULTURAL MACHINES OR IMPLEMENTS IN GENERAL Hand tools Spades Shovels with teeth Hoes Hand cultivators with a single blade with two or more blades with blades provided with teeth with teeth only Tools for uprooting weeds Tong like tools Combinations of different kinds of hand tools Attaching the blades or the like to handles Interchangeable or adjustable blades for treating meadows or lawns Ploughs Ploughs with fixed plough shares Man driven ploughs Animal drawn ploughs without alternating possibility i e incapable of making an adjacent furrow on return journey Swing ploughs Trussed beam ploughs Single wheel ploughs Two wheel beam ploughs Frame ploughs Alternating ploughs i e capable of making an adjacent furrow on return journey Turn wrest ploughs Balance ploughs with parallel plough units used alternately Tractor drawn\n"
          ]
        }
      ]
    },
    {
      "cell_type": "code",
      "source": [
        "# here are all the unique characters that occur in this text\n",
        "chars = sorted(list(set(text)))\n",
        "vocab_size = len(chars)\n",
        "print(''.join(chars))\n",
        "print(vocab_size)"
      ],
      "metadata": {
        "colab": {
          "base_uri": "https://localhost:8080/"
        },
        "id": "0e-Rbyr8sfM8",
        "outputId": "f8412496-759e-4cf3-eba8-58a76b3671ca"
      },
      "execution_count": 174,
      "outputs": [
        {
          "output_type": "stream",
          "name": "stdout",
          "text": [
            " 0123456789ABCDEFGHIJKLMNOPQRSTUVWXYZabcdefghijklmnopqrstuvwxyz\n",
            "63\n"
          ]
        }
      ]
    },
    {
      "cell_type": "code",
      "source": [
        "# create a mapping from characters to integers\n",
        "stoi = { ch:i for i,ch in enumerate(chars) }\n",
        "itos = { i:ch for i,ch in enumerate(chars) }\n",
        "encode = lambda s: [stoi[c] for c in s] # encoder: take a string, output a list of integers\n",
        "decode = lambda l: ''.join([itos[i] for i in l]) # decoder: take a list of integers, output a string\n",
        "\n",
        "print(encode(\"hii there\"))\n",
        "print(decode(encode(\"hii there\")))"
      ],
      "metadata": {
        "colab": {
          "base_uri": "https://localhost:8080/"
        },
        "id": "Yw1LKNCgwjj1",
        "outputId": "db6f7d74-9d8a-4f6e-d9e1-a13066fde378"
      },
      "execution_count": 175,
      "outputs": [
        {
          "output_type": "stream",
          "name": "stdout",
          "text": [
            "[44, 45, 45, 0, 56, 44, 41, 54, 41]\n",
            "hii there\n"
          ]
        }
      ]
    },
    {
      "cell_type": "code",
      "source": [
        "# let's now encode the entire text dataset and store it into a torch.Tensor\n",
        "import torch # we use PyTorch: https://pytorch.org\n",
        "data = torch.tensor(encode(text), dtype=torch.long)\n",
        "print(data.shape, data.dtype)\n",
        "print(data[:1000]) # the 1000 characters we looked at earier will to the GPT look like this"
      ],
      "metadata": {
        "colab": {
          "base_uri": "https://localhost:8080/"
        },
        "id": "YJb0OXPwzvqg",
        "outputId": "68730084-ee1a-437b-cb25-bf3e39fb3fba"
      },
      "execution_count": 176,
      "outputs": [
        {
          "output_type": "stream",
          "name": "stdout",
          "text": [
            "torch.Size([3973418]) torch.int64\n",
            "tensor([40, 41, 55, 39, 54, 45, 52, 56, 45, 51, 50,  0, 18, 31, 23, 11, 24,  0,\n",
            "        24, 15, 13, 15, 29, 29, 19, 30, 19, 15, 29,  0, 11, 17, 28, 19, 13, 31,\n",
            "        22, 30, 31, 28, 15,  0, 16, 25, 28, 15, 29, 30, 28, 35,  0, 11, 24, 19,\n",
            "        23, 11, 22,  0, 18, 31, 29, 12, 11, 24, 14, 28, 35,  0, 18, 31, 24, 30,\n",
            "        19, 24, 17,  0, 30, 28, 11, 26, 26, 19, 24, 17,  0, 16, 19, 29, 18, 19,\n",
            "        24, 17,  0, 29, 25, 19, 22,  0, 33, 25, 28, 21, 19, 24, 17,  0, 19, 24,\n",
            "         0, 11, 17, 28, 19, 13, 31, 22, 30, 31, 28, 15,  0, 25, 28,  0, 16, 25,\n",
            "        28, 15, 29, 30, 28, 35,  0, 26, 11, 28, 30, 29,  0, 14, 15, 30, 11, 19,\n",
            "        22, 29,  0, 25, 28,  0, 11, 13, 13, 15, 29, 29, 25, 28, 19, 15, 29,  0,\n",
            "        25, 16,  0, 11, 17, 28, 19, 13, 31, 22, 30, 31, 28, 11, 22,  0, 23, 11,\n",
            "        13, 18, 19, 24, 15, 29,  0, 25, 28,  0, 19, 23, 26, 22, 15, 23, 15, 24,\n",
            "        30, 29,  0, 19, 24,  0, 17, 15, 24, 15, 28, 11, 22,  0, 18, 37, 50, 40,\n",
            "         0, 56, 51, 51, 48, 55,  0, 29, 52, 37, 40, 41, 55,  0, 29, 44, 51, 58,\n",
            "        41, 48, 55,  0, 59, 45, 56, 44,  0, 56, 41, 41, 56, 44,  0, 18, 51, 41,\n",
            "        55,  0, 18, 37, 50, 40,  0, 39, 57, 48, 56, 45, 58, 37, 56, 51, 54, 55,\n",
            "         0, 59, 45, 56, 44,  0, 37,  0, 55, 45, 50, 43, 48, 41,  0, 38, 48, 37,\n",
            "        40, 41,  0, 59, 45, 56, 44,  0, 56, 59, 51,  0, 51, 54,  0, 49, 51, 54,\n",
            "        41,  0, 38, 48, 37, 40, 41, 55,  0, 59, 45, 56, 44,  0, 38, 48, 37, 40,\n",
            "        41, 55,  0, 52, 54, 51, 58, 45, 40, 41, 40,  0, 59, 45, 56, 44,  0, 56,\n",
            "        41, 41, 56, 44,  0, 59, 45, 56, 44,  0, 56, 41, 41, 56, 44,  0, 51, 50,\n",
            "        48, 61,  0, 30, 51, 51, 48, 55,  0, 42, 51, 54,  0, 57, 52, 54, 51, 51,\n",
            "        56, 45, 50, 43,  0, 59, 41, 41, 40, 55,  0, 30, 51, 50, 43,  0, 48, 45,\n",
            "        47, 41,  0, 56, 51, 51, 48, 55,  0, 13, 51, 49, 38, 45, 50, 37, 56, 45,\n",
            "        51, 50, 55,  0, 51, 42,  0, 40, 45, 42, 42, 41, 54, 41, 50, 56,  0, 47,\n",
            "        45, 50, 40, 55,  0, 51, 42,  0, 44, 37, 50, 40,  0, 56, 51, 51, 48, 55,\n",
            "         0, 11, 56, 56, 37, 39, 44, 45, 50, 43,  0, 56, 44, 41,  0, 38, 48, 37,\n",
            "        40, 41, 55,  0, 51, 54,  0, 56, 44, 41,  0, 48, 45, 47, 41,  0, 56, 51,\n",
            "         0, 44, 37, 50, 40, 48, 41, 55,  0, 19, 50, 56, 41, 54, 39, 44, 37, 50,\n",
            "        43, 41, 37, 38, 48, 41,  0, 51, 54,  0, 37, 40, 46, 57, 55, 56, 37, 38,\n",
            "        48, 41,  0, 38, 48, 37, 40, 41, 55,  0, 42, 51, 54,  0, 56, 54, 41, 37,\n",
            "        56, 45, 50, 43,  0, 49, 41, 37, 40, 51, 59, 55,  0, 51, 54,  0, 48, 37,\n",
            "        59, 50, 55,  0, 26, 48, 51, 57, 43, 44, 55,  0, 26, 48, 51, 57, 43, 44,\n",
            "        55,  0, 59, 45, 56, 44,  0, 42, 45, 60, 41, 40,  0, 52, 48, 51, 57, 43,\n",
            "        44,  0, 55, 44, 37, 54, 41, 55,  0, 23, 37, 50,  0, 40, 54, 45, 58, 41,\n",
            "        50,  0, 52, 48, 51, 57, 43, 44, 55,  0, 11, 50, 45, 49, 37, 48,  0, 40,\n",
            "        54, 37, 59, 50,  0, 52, 48, 51, 57, 43, 44, 55,  0, 59, 45, 56, 44, 51,\n",
            "        57, 56,  0, 37, 48, 56, 41, 54, 50, 37, 56, 45, 50, 43,  0, 52, 51, 55,\n",
            "        55, 45, 38, 45, 48, 45, 56, 61,  0, 45,  0, 41,  0, 45, 50, 39, 37, 52,\n",
            "        37, 38, 48, 41,  0, 51, 42,  0, 49, 37, 47, 45, 50, 43,  0, 37, 50,  0,\n",
            "        37, 40, 46, 37, 39, 41, 50, 56,  0, 42, 57, 54, 54, 51, 59,  0, 51, 50,\n",
            "         0, 54, 41, 56, 57, 54, 50,  0, 46, 51, 57, 54, 50, 41, 61,  0, 29, 59,\n",
            "        45, 50, 43,  0, 52, 48, 51, 57, 43, 44, 55,  0, 30, 54, 57, 55, 55, 41,\n",
            "        40,  0, 38, 41, 37, 49,  0, 52, 48, 51, 57, 43, 44, 55,  0, 29, 45, 50,\n",
            "        43, 48, 41,  0, 59, 44, 41, 41, 48,  0, 52, 48, 51, 57, 43, 44, 55,  0,\n",
            "        30, 59, 51,  0, 59, 44, 41, 41, 48,  0, 38, 41, 37, 49,  0, 52, 48, 51,\n",
            "        57, 43, 44, 55,  0, 16, 54, 37, 49, 41,  0, 52, 48, 51, 57, 43, 44, 55,\n",
            "         0, 11, 48, 56, 41, 54, 50, 37, 56, 45, 50, 43,  0, 52, 48, 51, 57, 43,\n",
            "        44, 55,  0, 45,  0, 41,  0, 39, 37, 52, 37, 38, 48, 41,  0, 51, 42,  0,\n",
            "        49, 37, 47, 45, 50, 43,  0, 37, 50,  0, 37, 40, 46, 37, 39, 41, 50, 56,\n",
            "         0, 42, 57, 54, 54, 51, 59,  0, 51, 50,  0, 54, 41, 56, 57, 54, 50,  0,\n",
            "        46, 51, 57, 54, 50, 41, 61,  0, 30, 57, 54, 50,  0, 59, 54, 41, 55, 56,\n",
            "         0, 52, 48, 51, 57, 43, 44, 55,  0, 12, 37, 48, 37, 50, 39, 41,  0, 52,\n",
            "        48, 51, 57, 43, 44, 55,  0, 59, 45, 56, 44,  0, 52, 37, 54, 37, 48, 48,\n",
            "        41, 48,  0, 52, 48, 51, 57, 43, 44,  0, 57, 50, 45, 56, 55,  0, 57, 55,\n",
            "        41, 40,  0, 37, 48, 56, 41, 54, 50, 37, 56, 41, 48, 61,  0, 30, 54, 37,\n",
            "        39, 56, 51, 54,  0, 40, 54, 37, 59, 50])\n"
          ]
        }
      ]
    },
    {
      "cell_type": "code",
      "source": [
        "# Let's now split up the data into train and validation sets\n",
        "n = int(0.9*len(data)) # first 90% will be train, rest val\n",
        "train_data = data[:n]\n",
        "val_data = data[n:]"
      ],
      "metadata": {
        "id": "f_WIXqxz0lU5"
      },
      "execution_count": 177,
      "outputs": []
    },
    {
      "cell_type": "code",
      "source": [
        "block_size = 8\n",
        "train_data[:block_size+1]"
      ],
      "metadata": {
        "colab": {
          "base_uri": "https://localhost:8080/"
        },
        "id": "TD5Bj8Y6IAD4",
        "outputId": "a36de582-eb5e-482f-9438-e1b933c46ee5"
      },
      "execution_count": 178,
      "outputs": [
        {
          "output_type": "execute_result",
          "data": {
            "text/plain": [
              "tensor([40, 41, 55, 39, 54, 45, 52, 56, 45])"
            ]
          },
          "metadata": {},
          "execution_count": 178
        }
      ]
    },
    {
      "cell_type": "code",
      "source": [
        "x = train_data[:block_size]\n",
        "y = train_data[1:block_size+1]\n",
        "for t in range(block_size):\n",
        "    context = x[:t+1]\n",
        "    target = y[t]\n",
        "    print(f\"when input is {context} the target: {target}\")"
      ],
      "metadata": {
        "colab": {
          "base_uri": "https://localhost:8080/"
        },
        "id": "9HXDe8vGJCEn",
        "outputId": "241548b8-5ed2-4611-84cd-0fb15cfadfd8"
      },
      "execution_count": 179,
      "outputs": [
        {
          "output_type": "stream",
          "name": "stdout",
          "text": [
            "when input is tensor([40]) the target: 41\n",
            "when input is tensor([40, 41]) the target: 55\n",
            "when input is tensor([40, 41, 55]) the target: 39\n",
            "when input is tensor([40, 41, 55, 39]) the target: 54\n",
            "when input is tensor([40, 41, 55, 39, 54]) the target: 45\n",
            "when input is tensor([40, 41, 55, 39, 54, 45]) the target: 52\n",
            "when input is tensor([40, 41, 55, 39, 54, 45, 52]) the target: 56\n",
            "when input is tensor([40, 41, 55, 39, 54, 45, 52, 56]) the target: 45\n"
          ]
        }
      ]
    },
    {
      "cell_type": "code",
      "source": [
        "torch.manual_seed(1337)\n",
        "batch_size = 4 # how many independent sequences will we process in parallel?\n",
        "block_size = 8 # what is the maximum context length for predictions?\n",
        "\n",
        "def get_batch(split):\n",
        "    # generate a small batch of data of inputs x and targets y\n",
        "    data = train_data if split == 'train' else val_data\n",
        "    ix = torch.randint(len(data) - block_size, (batch_size,))\n",
        "    x = torch.stack([data[i:i+block_size] for i in ix])\n",
        "    y = torch.stack([data[i+1:i+block_size+1] for i in ix])\n",
        "    return x, y\n",
        "\n",
        "xb, yb = get_batch('train')\n",
        "print('inputs:')\n",
        "print(xb.shape)\n",
        "print(xb)\n",
        "print('targets:')\n",
        "print(yb.shape)\n",
        "print(yb)\n",
        "\n",
        "print('----')\n",
        "\n",
        "for b in range(batch_size): # batch dimension\n",
        "    for t in range(block_size): # time dimension\n",
        "        context = xb[b, :t+1]\n",
        "        target = yb[b,t]\n",
        "        print(f\"when input is {context.tolist()} the target: {target}\")"
      ],
      "metadata": {
        "colab": {
          "base_uri": "https://localhost:8080/"
        },
        "id": "Q3k1Czf7LuA9",
        "outputId": "248c1a8e-af40-465c-9800-55167da0bbb7"
      },
      "execution_count": 180,
      "outputs": [
        {
          "output_type": "stream",
          "name": "stdout",
          "text": [
            "inputs:\n",
            "torch.Size([4, 8])\n",
            "tensor([[13, 25, 23, 12, 31, 29, 30, 19],\n",
            "        [55,  0, 23, 51, 57, 48, 40, 55],\n",
            "        [51, 54,  0, 52, 51, 48, 61, 52],\n",
            "        [55,  0, 41,  0, 43,  0, 38, 61]])\n",
            "targets:\n",
            "torch.Size([4, 8])\n",
            "tensor([[25, 23, 12, 31, 29, 30, 19, 12],\n",
            "        [ 0, 23, 51, 57, 48, 40, 55,  0],\n",
            "        [54,  0, 52, 51, 48, 61, 52, 41],\n",
            "        [ 0, 41,  0, 43,  0, 38, 61,  0]])\n",
            "----\n",
            "when input is [13] the target: 25\n",
            "when input is [13, 25] the target: 23\n",
            "when input is [13, 25, 23] the target: 12\n",
            "when input is [13, 25, 23, 12] the target: 31\n",
            "when input is [13, 25, 23, 12, 31] the target: 29\n",
            "when input is [13, 25, 23, 12, 31, 29] the target: 30\n",
            "when input is [13, 25, 23, 12, 31, 29, 30] the target: 19\n",
            "when input is [13, 25, 23, 12, 31, 29, 30, 19] the target: 12\n",
            "when input is [55] the target: 0\n",
            "when input is [55, 0] the target: 23\n",
            "when input is [55, 0, 23] the target: 51\n",
            "when input is [55, 0, 23, 51] the target: 57\n",
            "when input is [55, 0, 23, 51, 57] the target: 48\n",
            "when input is [55, 0, 23, 51, 57, 48] the target: 40\n",
            "when input is [55, 0, 23, 51, 57, 48, 40] the target: 55\n",
            "when input is [55, 0, 23, 51, 57, 48, 40, 55] the target: 0\n",
            "when input is [51] the target: 54\n",
            "when input is [51, 54] the target: 0\n",
            "when input is [51, 54, 0] the target: 52\n",
            "when input is [51, 54, 0, 52] the target: 51\n",
            "when input is [51, 54, 0, 52, 51] the target: 48\n",
            "when input is [51, 54, 0, 52, 51, 48] the target: 61\n",
            "when input is [51, 54, 0, 52, 51, 48, 61] the target: 52\n",
            "when input is [51, 54, 0, 52, 51, 48, 61, 52] the target: 41\n",
            "when input is [55] the target: 0\n",
            "when input is [55, 0] the target: 41\n",
            "when input is [55, 0, 41] the target: 0\n",
            "when input is [55, 0, 41, 0] the target: 43\n",
            "when input is [55, 0, 41, 0, 43] the target: 0\n",
            "when input is [55, 0, 41, 0, 43, 0] the target: 38\n",
            "when input is [55, 0, 41, 0, 43, 0, 38] the target: 61\n",
            "when input is [55, 0, 41, 0, 43, 0, 38, 61] the target: 0\n"
          ]
        }
      ]
    },
    {
      "cell_type": "code",
      "source": [
        "print(xb) # our input to the transformer"
      ],
      "metadata": {
        "colab": {
          "base_uri": "https://localhost:8080/"
        },
        "id": "qpyyAeIzQjlO",
        "outputId": "f83389d4-fe15-47a1-9cee-4761bb8a40ee"
      },
      "execution_count": 181,
      "outputs": [
        {
          "output_type": "stream",
          "name": "stdout",
          "text": [
            "tensor([[13, 25, 23, 12, 31, 29, 30, 19],\n",
            "        [55,  0, 23, 51, 57, 48, 40, 55],\n",
            "        [51, 54,  0, 52, 51, 48, 61, 52],\n",
            "        [55,  0, 41,  0, 43,  0, 38, 61]])\n"
          ]
        }
      ]
    },
    {
      "cell_type": "code",
      "source": [
        "import torch\n",
        "import torch.nn as nn\n",
        "from torch.nn import functional as F\n",
        "torch.manual_seed(1337)\n",
        "\n",
        "class BigramLanguageModel(nn.Module):\n",
        "\n",
        "    def __init__(self, vocab_size):\n",
        "        super().__init__()\n",
        "        # each token directly reads off the logits for the next token from a lookup table\n",
        "        self.token_embedding_table = nn.Embedding(vocab_size, vocab_size)\n",
        "\n",
        "    def forward(self, idx, targets=None):\n",
        "\n",
        "        # idx and targets are both (B,T) tensor of integers\n",
        "        logits = self.token_embedding_table(idx) # (B,T,C)\n",
        "        \n",
        "        if targets is None:\n",
        "            loss = None\n",
        "        else:\n",
        "            B, T, C = logits.shape\n",
        "            logits = logits.view(B*T, C)\n",
        "            targets = targets.view(B*T)\n",
        "            loss = F.cross_entropy(logits, targets)\n",
        "\n",
        "        return logits, loss\n",
        "    \n",
        "    def generate(self, idx, max_new_tokens):\n",
        "        # idx is (B, T) array of indices in the current context\n",
        "        for _ in range(max_new_tokens):\n",
        "            # get the predictions\n",
        "            logits, loss = self(idx)\n",
        "            # focus only on the last time step\n",
        "            logits = logits[:, -1, :] # becomes (B, C)\n",
        "            # apply softmax to get probabilities\n",
        "            probs = F.softmax(logits, dim=-1) # (B, C)\n",
        "            # sample from the distribution\n",
        "            idx_next = torch.multinomial(probs, num_samples=1) # (B, 1)\n",
        "            # append sampled index to the running sequence\n",
        "            idx = torch.cat((idx, idx_next), dim=1) # (B, T+1)\n",
        "        return idx\n",
        "\n",
        "m = BigramLanguageModel(vocab_size)\n",
        "logits, loss = m(xb, yb)\n",
        "print(logits.shape)\n",
        "print(loss)\n",
        "\n",
        "print(decode(m.generate(idx = torch.zeros((1, 1), dtype=torch.long), max_new_tokens=100)[0].tolist()))\n"
      ],
      "metadata": {
        "colab": {
          "base_uri": "https://localhost:8080/"
        },
        "id": "nql_1ER53oCf",
        "outputId": "c93d6106-4eb4-45e3-b45f-611a1fb22558"
      },
      "execution_count": 182,
      "outputs": [
        {
          "output_type": "stream",
          "name": "stdout",
          "text": [
            "torch.Size([32, 63])\n",
            "tensor(4.8644, grad_fn=<NllLossBackward0>)\n",
            " Ue8m7TYh LwajmRFdGSdcKjNW1aFGV124htCLTYFEPQ1xuWeyslIELK2PjN2 mt2ZLldYmhy8ebIqeh 05I5gN1BCFpRwj8mUigw\n"
          ]
        }
      ]
    },
    {
      "cell_type": "code",
      "source": [
        "# create a PyTorch optimizer\n",
        "optimizer = torch.optim.AdamW(m.parameters(), lr=1e-3)"
      ],
      "metadata": {
        "id": "eTyJ8qAaDdiF"
      },
      "execution_count": 183,
      "outputs": []
    },
    {
      "cell_type": "code",
      "source": [
        "batch_size = 32\n",
        "for steps in range(100): # increase number of steps for good results... \n",
        "    \n",
        "    # sample a batch of data\n",
        "    xb, yb = get_batch('train')\n",
        "\n",
        "    # evaluate the loss\n",
        "    logits, loss = m(xb, yb)\n",
        "    optimizer.zero_grad(set_to_none=True)\n",
        "    loss.backward()\n",
        "    optimizer.step()\n",
        "\n",
        "print(loss.item())\n"
      ],
      "metadata": {
        "colab": {
          "base_uri": "https://localhost:8080/"
        },
        "id": "Hs4kI8YdEkQj",
        "outputId": "d0c21ecd-3266-43b7-96f7-1f26895caa4a"
      },
      "execution_count": 184,
      "outputs": [
        {
          "output_type": "stream",
          "name": "stdout",
          "text": [
            "4.4559431076049805\n"
          ]
        }
      ]
    },
    {
      "cell_type": "code",
      "source": [
        "print(decode(m.generate(idx = torch.zeros((1, 1), dtype=torch.long), max_new_tokens=500)[0].tolist()))"
      ],
      "metadata": {
        "colab": {
          "base_uri": "https://localhost:8080/"
        },
        "id": "EcVIDWAZEtjN",
        "outputId": "d6a8dfe9-b947-4276-961e-c2e0c4f4b84d"
      },
      "execution_count": 185,
      "outputs": [
        {
          "output_type": "stream",
          "name": "stdout",
          "text": [
            " rdGLCzk0Dg8m UReOzpWeGZ5x1vSCw2C UuReD9BAQAdMwi9eaPQoTGufFZ3W11HvZGf9jcEPD36Ri1 MSxY7BIlIxjfkMmUR396fgWPe l 59Y2LeaPSiaVqVoAhfjBDhcnt1Q1aPUyLJb7kxXHcqrSWacOmzXKqJ UdhAHX7HLrQJBeiPeSC15gWplECHCztbjAsFECDe8zTCWRb1srVQPpIxx9r3XLc8rsw1KwawhYsOxuh2  vigQw4J57L7tE8kI25YalMm7oZfdLsle4fhNfhc6LAh tDr29REtOFf9Y8eDfTOZfMMOydhj8 tdbkrVQ35Rm3 LDg6o3hcBBoZ65GZGiaicEDtdGqYcsB8RPVIxJqVriJMtroCzeB4NdqiJ3Omt0GLcPRrk1orEkNa62pZeR8FbjfIuuQOAH08bH0u3WKtnsejxlFgWZsbO1KjBRELbqvOxJKjA1BbCUqusyPVW YRWejQPioTShYDmMD3pZle\n"
          ]
        }
      ]
    },
    {
      "cell_type": "markdown",
      "source": [
        "## The mathematical trick in self-attention"
      ],
      "metadata": {
        "id": "XinV8nmAnmKN"
      }
    },
    {
      "cell_type": "code",
      "source": [
        "# toy example illustrating how matrix multiplication can be used for a \"weighted aggregation\"\n",
        "torch.manual_seed(42)\n",
        "a = torch.tril(torch.ones(3, 3))\n",
        "a = a / torch.sum(a, 1, keepdim=True)\n",
        "b = torch.randint(0,10,(3,2)).float()\n",
        "c = a @ b\n",
        "print('a=')\n",
        "print(a)\n",
        "print('--')\n",
        "print('b=')\n",
        "print(b)\n",
        "print('--')\n",
        "print('c=')\n",
        "print(c)"
      ],
      "metadata": {
        "colab": {
          "base_uri": "https://localhost:8080/"
        },
        "id": "tukiH-NbRBhA",
        "outputId": "b1b829c8-f23b-414c-e7d9-006ba7892cf5"
      },
      "execution_count": 186,
      "outputs": [
        {
          "output_type": "stream",
          "name": "stdout",
          "text": [
            "a=\n",
            "tensor([[1.0000, 0.0000, 0.0000],\n",
            "        [0.5000, 0.5000, 0.0000],\n",
            "        [0.3333, 0.3333, 0.3333]])\n",
            "--\n",
            "b=\n",
            "tensor([[2., 7.],\n",
            "        [6., 4.],\n",
            "        [6., 5.]])\n",
            "--\n",
            "c=\n",
            "tensor([[2.0000, 7.0000],\n",
            "        [4.0000, 5.5000],\n",
            "        [4.6667, 5.3333]])\n"
          ]
        }
      ]
    },
    {
      "cell_type": "code",
      "source": [
        "# consider the following toy example:\n",
        "\n",
        "torch.manual_seed(1337)\n",
        "B,T,C = 4,8,2 # batch, time, channels\n",
        "x = torch.randn(B,T,C)\n",
        "x.shape"
      ],
      "metadata": {
        "colab": {
          "base_uri": "https://localhost:8080/"
        },
        "id": "Hs_E24uRE8kr",
        "outputId": "c99516cf-21fe-4847-f5c2-35f019eea992"
      },
      "execution_count": 187,
      "outputs": [
        {
          "output_type": "execute_result",
          "data": {
            "text/plain": [
              "torch.Size([4, 8, 2])"
            ]
          },
          "metadata": {},
          "execution_count": 187
        }
      ]
    },
    {
      "cell_type": "code",
      "source": [
        "# We want x[b,t] = mean_{i<=t} x[b,i]\n",
        "xbow = torch.zeros((B,T,C))\n",
        "for b in range(B):\n",
        "    for t in range(T):\n",
        "        xprev = x[b,:t+1] # (t,C)\n",
        "        xbow[b,t] = torch.mean(xprev, 0)\n"
      ],
      "metadata": {
        "id": "86NuXX0fn7ps"
      },
      "execution_count": 188,
      "outputs": []
    },
    {
      "cell_type": "code",
      "source": [
        "# version 2: using matrix multiply for a weighted aggregation\n",
        "wei = torch.tril(torch.ones(T, T))\n",
        "wei = wei / wei.sum(1, keepdim=True)\n",
        "xbow2 = wei @ x # (B, T, T) @ (B, T, C) ----> (B, T, C)\n",
        "torch.allclose(xbow, xbow2)"
      ],
      "metadata": {
        "colab": {
          "base_uri": "https://localhost:8080/"
        },
        "id": "yhdOAd6-wXkZ",
        "outputId": "f4acd1c6-170d-4421-f72c-d01744f9f441"
      },
      "execution_count": 189,
      "outputs": [
        {
          "output_type": "execute_result",
          "data": {
            "text/plain": [
              "True"
            ]
          },
          "metadata": {},
          "execution_count": 189
        }
      ]
    },
    {
      "cell_type": "code",
      "source": [
        "# version 3: use Softmax\n",
        "tril = torch.tril(torch.ones(T, T))\n",
        "wei = torch.zeros((T,T))\n",
        "wei = wei.masked_fill(tril == 0, float('-inf'))\n",
        "wei = F.softmax(wei, dim=-1)\n",
        "xbow3 = wei @ x\n",
        "torch.allclose(xbow, xbow3)\n"
      ],
      "metadata": {
        "colab": {
          "base_uri": "https://localhost:8080/"
        },
        "id": "wOURrfG-ysoL",
        "outputId": "c4be7911-124c-4e28-fd23-c22cfe83ab39"
      },
      "execution_count": 190,
      "outputs": [
        {
          "output_type": "execute_result",
          "data": {
            "text/plain": [
              "True"
            ]
          },
          "metadata": {},
          "execution_count": 190
        }
      ]
    },
    {
      "cell_type": "code",
      "source": [
        "# version 4: self-attention!\n",
        "torch.manual_seed(1337)\n",
        "B,T,C = 4,8,32 # batch, time, channels\n",
        "x = torch.randn(B,T,C)\n",
        "\n",
        "# let's see a single Head perform self-attention\n",
        "head_size = 16\n",
        "key = nn.Linear(C, head_size, bias=False)\n",
        "query = nn.Linear(C, head_size, bias=False)\n",
        "value = nn.Linear(C, head_size, bias=False)\n",
        "k = key(x)   # (B, T, 16)\n",
        "q = query(x) # (B, T, 16)\n",
        "wei =  q @ k.transpose(-2, -1) # (B, T, 16) @ (B, 16, T) ---> (B, T, T)\n",
        "\n",
        "tril = torch.tril(torch.ones(T, T))\n",
        "#wei = torch.zeros((T,T))\n",
        "wei = wei.masked_fill(tril == 0, float('-inf'))\n",
        "wei = F.softmax(wei, dim=-1)\n",
        "\n",
        "v = value(x)\n",
        "out = wei @ v\n",
        "#out = wei @ x\n",
        "\n",
        "out.shape"
      ],
      "metadata": {
        "colab": {
          "base_uri": "https://localhost:8080/"
        },
        "id": "EDarxEWIRMKq",
        "outputId": "2f263922-4ad8-4cb1-c893-8726babbbaf8"
      },
      "execution_count": 191,
      "outputs": [
        {
          "output_type": "execute_result",
          "data": {
            "text/plain": [
              "torch.Size([4, 8, 16])"
            ]
          },
          "metadata": {},
          "execution_count": 191
        }
      ]
    },
    {
      "cell_type": "code",
      "source": [
        "wei[0]"
      ],
      "metadata": {
        "colab": {
          "base_uri": "https://localhost:8080/"
        },
        "id": "vT1hdtzXCjgL",
        "outputId": "c59b3aca-31c4-4ae7-961c-646edf86f831"
      },
      "execution_count": 192,
      "outputs": [
        {
          "output_type": "execute_result",
          "data": {
            "text/plain": [
              "tensor([[1.0000, 0.0000, 0.0000, 0.0000, 0.0000, 0.0000, 0.0000, 0.0000],\n",
              "        [0.1574, 0.8426, 0.0000, 0.0000, 0.0000, 0.0000, 0.0000, 0.0000],\n",
              "        [0.2088, 0.1646, 0.6266, 0.0000, 0.0000, 0.0000, 0.0000, 0.0000],\n",
              "        [0.5792, 0.1187, 0.1889, 0.1131, 0.0000, 0.0000, 0.0000, 0.0000],\n",
              "        [0.0294, 0.1052, 0.0469, 0.0276, 0.7909, 0.0000, 0.0000, 0.0000],\n",
              "        [0.0176, 0.2689, 0.0215, 0.0089, 0.6812, 0.0019, 0.0000, 0.0000],\n",
              "        [0.1691, 0.4066, 0.0438, 0.0416, 0.1048, 0.2012, 0.0329, 0.0000],\n",
              "        [0.0210, 0.0843, 0.0555, 0.2297, 0.0573, 0.0709, 0.2423, 0.2391]],\n",
              "       grad_fn=<SelectBackward0>)"
            ]
          },
          "metadata": {},
          "execution_count": 192
        }
      ]
    },
    {
      "cell_type": "markdown",
      "source": [
        "Notes:\n",
        "- Attention is a **communication mechanism**. Can be seen as nodes in a directed graph looking at each other and aggregating information with a weighted sum from all nodes that point to them, with data-dependent weights.\n",
        "- There is no notion of space. Attention simply acts over a set of vectors. This is why we need to positionally encode tokens.\n",
        "- Each example across batch dimension is of course processed completely independently and never \"talk\" to each other\n",
        "- In an \"encoder\" attention block just delete the single line that does masking with `tril`, allowing all tokens to communicate. This block here is called a \"decoder\" attention block because it has triangular masking, and is usually used in autoregressive settings, like language modeling.\n",
        "- \"self-attention\" just means that the keys and values are produced from the same source as queries. In \"cross-attention\", the queries still get produced from x, but the keys and values come from some other, external source (e.g. an encoder module)\n",
        "- \"Scaled\" attention additional divides `wei` by 1/sqrt(head_size). This makes it so when input Q,K are unit variance, wei will be unit variance too and Softmax will stay diffuse and not saturate too much. Illustration below"
      ],
      "metadata": {
        "id": "M5CvobiQ0pLr"
      }
    },
    {
      "cell_type": "code",
      "source": [
        "k = torch.randn(B,T,head_size)\n",
        "q = torch.randn(B,T,head_size)\n",
        "wei = q @ k.transpose(-2, -1) * head_size**-0.5"
      ],
      "metadata": {
        "id": "4SNbLq5z3oBw"
      },
      "execution_count": 193,
      "outputs": []
    },
    {
      "cell_type": "code",
      "source": [
        "k.var()"
      ],
      "metadata": {
        "colab": {
          "base_uri": "https://localhost:8080/"
        },
        "id": "Nl6I9n9IRTSo",
        "outputId": "753afa74-eaa4-4501-8c91-cbaf6732e470"
      },
      "execution_count": 194,
      "outputs": [
        {
          "output_type": "execute_result",
          "data": {
            "text/plain": [
              "tensor(1.0449)"
            ]
          },
          "metadata": {},
          "execution_count": 194
        }
      ]
    },
    {
      "cell_type": "code",
      "source": [
        "q.var()"
      ],
      "metadata": {
        "colab": {
          "base_uri": "https://localhost:8080/"
        },
        "id": "T1tQx7oeRvtc",
        "outputId": "2dfdc0cb-af88-4b41-ee54-6d9e8b5823b8"
      },
      "execution_count": 195,
      "outputs": [
        {
          "output_type": "execute_result",
          "data": {
            "text/plain": [
              "tensor(1.0700)"
            ]
          },
          "metadata": {},
          "execution_count": 195
        }
      ]
    },
    {
      "cell_type": "code",
      "source": [
        "wei.var()"
      ],
      "metadata": {
        "colab": {
          "base_uri": "https://localhost:8080/"
        },
        "id": "MLb_odHU3iKM",
        "outputId": "4995a2f0-ec23-4674-bb59-0d765516c689"
      },
      "execution_count": 196,
      "outputs": [
        {
          "output_type": "execute_result",
          "data": {
            "text/plain": [
              "tensor(1.0918)"
            ]
          },
          "metadata": {},
          "execution_count": 196
        }
      ]
    },
    {
      "cell_type": "code",
      "source": [
        "torch.softmax(torch.tensor([0.1, -0.2, 0.3, -0.2, 0.5]), dim=-1)"
      ],
      "metadata": {
        "colab": {
          "base_uri": "https://localhost:8080/"
        },
        "id": "JB82yzt44REI",
        "outputId": "49b06a94-28fb-414e-da02-2eb8c2535c29"
      },
      "execution_count": 197,
      "outputs": [
        {
          "output_type": "execute_result",
          "data": {
            "text/plain": [
              "tensor([0.1925, 0.1426, 0.2351, 0.1426, 0.2872])"
            ]
          },
          "metadata": {},
          "execution_count": 197
        }
      ]
    },
    {
      "cell_type": "code",
      "source": [
        "torch.softmax(torch.tensor([0.1, -0.2, 0.3, -0.2, 0.5])*8, dim=-1) # gets too peaky, converges to one-hot"
      ],
      "metadata": {
        "colab": {
          "base_uri": "https://localhost:8080/"
        },
        "id": "Mpt8569BB9_f",
        "outputId": "120943b9-4fe0-4162-92ca-8b2aefdea2cd"
      },
      "execution_count": 198,
      "outputs": [
        {
          "output_type": "execute_result",
          "data": {
            "text/plain": [
              "tensor([0.0326, 0.0030, 0.1615, 0.0030, 0.8000])"
            ]
          },
          "metadata": {},
          "execution_count": 198
        }
      ]
    },
    {
      "cell_type": "code",
      "source": [
        "class LayerNorm1d: # (used to be BatchNorm1d)\n",
        "  \n",
        "  def __init__(self, dim, eps=1e-5, momentum=0.1):\n",
        "    self.eps = eps\n",
        "    self.gamma = torch.ones(dim)\n",
        "    self.beta = torch.zeros(dim)\n",
        "  \n",
        "  def __call__(self, x):\n",
        "    # calculate the forward pass\n",
        "    xmean = x.mean(1, keepdim=True) # batch mean\n",
        "    xvar = x.var(1, keepdim=True) # batch variance\n",
        "    xhat = (x - xmean) / torch.sqrt(xvar + self.eps) # normalize to unit variance\n",
        "    self.out = self.gamma * xhat + self.beta\n",
        "    return self.out\n",
        "  \n",
        "  def parameters(self):\n",
        "    return [self.gamma, self.beta]\n",
        "\n",
        "torch.manual_seed(1337)\n",
        "module = LayerNorm1d(100)\n",
        "x = torch.randn(32, 100) # batch size 32 of 100-dimensional vectors\n",
        "x = module(x)\n",
        "x.shape"
      ],
      "metadata": {
        "colab": {
          "base_uri": "https://localhost:8080/"
        },
        "id": "2Num7sX9CKOH",
        "outputId": "46d0755b-6587-41cd-87ef-186c76ce12b3"
      },
      "execution_count": 199,
      "outputs": [
        {
          "output_type": "execute_result",
          "data": {
            "text/plain": [
              "torch.Size([32, 100])"
            ]
          },
          "metadata": {},
          "execution_count": 199
        }
      ]
    },
    {
      "cell_type": "code",
      "source": [
        "x[:,0].mean(), x[:,0].std() # mean,std of one feature across all batch inputs"
      ],
      "metadata": {
        "colab": {
          "base_uri": "https://localhost:8080/"
        },
        "id": "633T2cmnW1uk",
        "outputId": "617e9cc3-3e5d-4f61-b960-21c53f8a0ab1"
      },
      "execution_count": 200,
      "outputs": [
        {
          "output_type": "execute_result",
          "data": {
            "text/plain": [
              "(tensor(0.1469), tensor(0.8803))"
            ]
          },
          "metadata": {},
          "execution_count": 200
        }
      ]
    },
    {
      "cell_type": "code",
      "source": [
        "x[0,:].mean(), x[0,:].std() # mean,std of a single input from the batch, of its features"
      ],
      "metadata": {
        "colab": {
          "base_uri": "https://localhost:8080/"
        },
        "id": "LN9cK9BoXCYb",
        "outputId": "277bcee3-100a-40fe-f7b8-c4fcbef35542"
      },
      "execution_count": 201,
      "outputs": [
        {
          "output_type": "execute_result",
          "data": {
            "text/plain": [
              "(tensor(-9.5367e-09), tensor(1.0000))"
            ]
          },
          "metadata": {},
          "execution_count": 201
        }
      ]
    },
    {
      "cell_type": "code",
      "source": [
        "# French to English translation example:\n",
        "\n",
        "# <--------- ENCODE ------------------><--------------- DECODE ----------------->\n",
        "# les réseaux de neurones sont géniaux! <START> neural networks are awesome!<END>\n",
        "\n"
      ],
      "metadata": {
        "id": "dRJH6wM_XFfU"
      },
      "execution_count": 202,
      "outputs": []
    },
    {
      "cell_type": "markdown",
      "source": [
        "### Full finished code, for reference\n",
        "\n",
        "You may want to refer directly to the git repo instead though."
      ],
      "metadata": {
        "id": "ZcvKeBXoZFOY"
      }
    },
    {
      "cell_type": "code",
      "source": [
        "import torch\n",
        "import torch.nn as nn\n",
        "from torch.nn import functional as F\n",
        "\n",
        "# hyperparameters\n",
        "batch_size = 16 # how many independent sequences will we process in parallel?\n",
        "block_size = 32 # what is the maximum context length for predictions?\n",
        "max_iters = 5000\n",
        "eval_interval = 100\n",
        "learning_rate = 1e-3\n",
        "device = 'cuda' if torch.cuda.is_available() else 'cpu'\n",
        "eval_iters = 200\n",
        "n_embd = 64\n",
        "n_head = 4\n",
        "n_layer = 4\n",
        "dropout = 0.0\n",
        "# ------------\n",
        "\n",
        "torch.manual_seed(1337)\n",
        "\n",
        "# wget https://raw.githubusercontent.com/karpathy/char-rnn/master/data/tinyshakespeare/input.txt\n",
        "with open('input.txt', 'r', encoding='utf-8') as f:\n",
        "    text = f.read()\n",
        "\n",
        "# here are all the unique characters that occur in this text\n",
        "chars = sorted(list(set(text)))\n",
        "vocab_size = len(chars)\n",
        "# create a mapping from characters to integers\n",
        "stoi = { ch:i for i,ch in enumerate(chars) }\n",
        "itos = { i:ch for i,ch in enumerate(chars) }\n",
        "encode = lambda s: [stoi[c] for c in s] # encoder: take a string, output a list of integers\n",
        "decode = lambda l: ''.join([itos[i] for i in l]) # decoder: take a list of integers, output a string\n",
        "\n",
        "# Train and test splits\n",
        "data = torch.tensor(encode(text), dtype=torch.long)\n",
        "n = int(0.9*len(data)) # first 90% will be train, rest val\n",
        "train_data = data[:n]\n",
        "val_data = data[n:]\n",
        "\n",
        "# data loading\n",
        "def get_batch(split):\n",
        "    # generate a small batch of data of inputs x and targets y\n",
        "    data = train_data if split == 'train' else val_data\n",
        "    ix = torch.randint(len(data) - block_size, (batch_size,))\n",
        "    x = torch.stack([data[i:i+block_size] for i in ix])\n",
        "    y = torch.stack([data[i+1:i+block_size+1] for i in ix])\n",
        "    x, y = x.to(device), y.to(device)\n",
        "    return x, y\n",
        "\n",
        "@torch.no_grad()\n",
        "def estimate_loss():\n",
        "    out = {}\n",
        "    model.eval()\n",
        "    for split in ['train', 'val']:\n",
        "        losses = torch.zeros(eval_iters)\n",
        "        for k in range(eval_iters):\n",
        "            X, Y = get_batch(split)\n",
        "            logits, loss = model(X, Y)\n",
        "            losses[k] = loss.item()\n",
        "        out[split] = losses.mean()\n",
        "    model.train()\n",
        "    return out\n",
        "\n",
        "class Head(nn.Module):\n",
        "    \"\"\" one head of self-attention \"\"\"\n",
        "\n",
        "    def __init__(self, head_size):\n",
        "        super().__init__()\n",
        "        self.key = nn.Linear(n_embd, head_size, bias=False)\n",
        "        self.query = nn.Linear(n_embd, head_size, bias=False)\n",
        "        self.value = nn.Linear(n_embd, head_size, bias=False)\n",
        "        self.register_buffer('tril', torch.tril(torch.ones(block_size, block_size)))\n",
        "\n",
        "        self.dropout = nn.Dropout(dropout)\n",
        "\n",
        "    def forward(self, x):\n",
        "        B,T,C = x.shape\n",
        "        k = self.key(x)   # (B,T,C)\n",
        "        q = self.query(x) # (B,T,C)\n",
        "        # compute attention scores (\"affinities\")\n",
        "        wei = q @ k.transpose(-2,-1) * C**-0.5 # (B, T, C) @ (B, C, T) -> (B, T, T)\n",
        "        wei = wei.masked_fill(self.tril[:T, :T] == 0, float('-inf')) # (B, T, T)\n",
        "        wei = F.softmax(wei, dim=-1) # (B, T, T)\n",
        "        wei = self.dropout(wei)\n",
        "        # perform the weighted aggregation of the values\n",
        "        v = self.value(x) # (B,T,C)\n",
        "        out = wei @ v # (B, T, T) @ (B, T, C) -> (B, T, C)\n",
        "        return out\n",
        "\n",
        "class MultiHeadAttention(nn.Module):\n",
        "    \"\"\" multiple heads of self-attention in parallel \"\"\"\n",
        "\n",
        "    def __init__(self, num_heads, head_size):\n",
        "        super().__init__()\n",
        "        self.heads = nn.ModuleList([Head(head_size) for _ in range(num_heads)])\n",
        "        self.proj = nn.Linear(n_embd, n_embd)\n",
        "        self.dropout = nn.Dropout(dropout)\n",
        "\n",
        "    def forward(self, x):\n",
        "        out = torch.cat([h(x) for h in self.heads], dim=-1)\n",
        "        out = self.dropout(self.proj(out))\n",
        "        return out\n",
        "\n",
        "class FeedFoward(nn.Module):\n",
        "    \"\"\" a simple linear layer followed by a non-linearity \"\"\"\n",
        "\n",
        "    def __init__(self, n_embd):\n",
        "        super().__init__()\n",
        "        self.net = nn.Sequential(\n",
        "            nn.Linear(n_embd, 4 * n_embd),\n",
        "            nn.ReLU(),\n",
        "            nn.Linear(4 * n_embd, n_embd),\n",
        "            nn.Dropout(dropout),\n",
        "        )\n",
        "\n",
        "    def forward(self, x):\n",
        "        return self.net(x)\n",
        "\n",
        "class Block(nn.Module):\n",
        "    \"\"\" Transformer block: communication followed by computation \"\"\"\n",
        "\n",
        "    def __init__(self, n_embd, n_head):\n",
        "        # n_embd: embedding dimension, n_head: the number of heads we'd like\n",
        "        super().__init__()\n",
        "        head_size = n_embd // n_head\n",
        "        self.sa = MultiHeadAttention(n_head, head_size)\n",
        "        self.ffwd = FeedFoward(n_embd)\n",
        "        self.ln1 = nn.LayerNorm(n_embd)\n",
        "        self.ln2 = nn.LayerNorm(n_embd)\n",
        "\n",
        "    def forward(self, x):\n",
        "        x = x + self.sa(self.ln1(x))\n",
        "        x = x + self.ffwd(self.ln2(x))\n",
        "        return x\n",
        "\n",
        "# super simple bigram model\n",
        "class BigramLanguageModel(nn.Module):\n",
        "\n",
        "    def __init__(self):\n",
        "        super().__init__()\n",
        "        # each token directly reads off the logits for the next token from a lookup table\n",
        "        self.token_embedding_table = nn.Embedding(vocab_size, n_embd)\n",
        "        self.position_embedding_table = nn.Embedding(block_size, n_embd)\n",
        "        self.blocks = nn.Sequential(*[Block(n_embd, n_head=n_head) for _ in range(n_layer)])\n",
        "        self.ln_f = nn.LayerNorm(n_embd) # final layer norm\n",
        "        self.lm_head = nn.Linear(n_embd, vocab_size)\n",
        "\n",
        "    def forward(self, idx, targets=None):\n",
        "        B, T = idx.shape\n",
        "\n",
        "        # idx and targets are both (B,T) tensor of integers\n",
        "        tok_emb = self.token_embedding_table(idx) # (B,T,C)\n",
        "        pos_emb = self.position_embedding_table(torch.arange(T, device=device)) # (T,C)\n",
        "        x = tok_emb + pos_emb # (B,T,C)\n",
        "        x = self.blocks(x) # (B,T,C)\n",
        "        x = self.ln_f(x) # (B,T,C)\n",
        "        logits = self.lm_head(x) # (B,T,vocab_size)\n",
        "\n",
        "        if targets is None:\n",
        "            loss = None\n",
        "        else:\n",
        "            B, T, C = logits.shape\n",
        "            logits = logits.view(B*T, C)\n",
        "            targets = targets.view(B*T)\n",
        "            loss = F.cross_entropy(logits, targets)\n",
        "\n",
        "        return logits, loss\n",
        "\n",
        "    def generate(self, idx, max_new_tokens):\n",
        "        # idx is (B, T) array of indices in the current context\n",
        "        for _ in range(max_new_tokens):\n",
        "            # crop idx to the last block_size tokens\n",
        "            idx_cond = idx[:, -block_size:]\n",
        "            # get the predictions\n",
        "            logits, loss = self(idx_cond)\n",
        "            # focus only on the last time step\n",
        "            logits = logits[:, -1, :] # becomes (B, C)\n",
        "            # apply softmax to get probabilities\n",
        "            probs = F.softmax(logits, dim=-1) # (B, C)\n",
        "            # sample from the distribution\n",
        "            idx_next = torch.multinomial(probs, num_samples=1) # (B, 1)\n",
        "            # append sampled index to the running sequence\n",
        "            idx = torch.cat((idx, idx_next), dim=1) # (B, T+1)\n",
        "        return idx\n",
        "\n",
        "model = BigramLanguageModel()\n",
        "m = model.to(device)\n",
        "# print the number of parameters in the model\n",
        "print(sum(p.numel() for p in m.parameters())/1e6, 'M parameters')\n",
        "\n",
        "# create a PyTorch optimizer\n",
        "optimizer = torch.optim.AdamW(model.parameters(), lr=learning_rate)\n",
        "\n",
        "for iter in range(max_iters):\n",
        "\n",
        "    # every once in a while evaluate the loss on train and val sets\n",
        "    if iter % eval_interval == 0 or iter == max_iters - 1:\n",
        "        losses = estimate_loss()\n",
        "        print(f\"step {iter}: train loss {losses['train']:.4f}, val loss {losses['val']:.4f}\")\n",
        "\n",
        "    # sample a batch of data\n",
        "    xb, yb = get_batch('train')\n",
        "\n",
        "    # evaluate the loss\n",
        "    logits, loss = model(xb, yb)\n",
        "    optimizer.zero_grad(set_to_none=True)\n",
        "    loss.backward()\n",
        "    optimizer.step()\n",
        "\n",
        "# generate from the model\n",
        "context = torch.zeros((1, 1), dtype=torch.long, device=device)\n",
        "print(decode(m.generate(context, max_new_tokens=2000)[0].tolist()))\n"
      ],
      "metadata": {
        "colab": {
          "base_uri": "https://localhost:8080/"
        },
        "id": "hoelkOrFY8bN",
        "outputId": "cc60d93b-0404-4713-8627-b909a6719768"
      },
      "execution_count": null,
      "outputs": [
        {
          "output_type": "stream",
          "name": "stdout",
          "text": [
            "0.215405 M parameters\n",
            "step 0: train loss 4.8695, val loss 4.8696\n",
            "step 100: train loss 2.7018, val loss 2.7086\n",
            "step 200: train loss 2.5132, val loss 2.5318\n",
            "step 300: train loss 2.4199, val loss 2.4281\n",
            "step 400: train loss 2.3214, val loss 2.3675\n",
            "step 500: train loss 2.2242, val loss 2.2780\n",
            "step 600: train loss 2.1643, val loss 2.2057\n",
            "step 700: train loss 2.1039, val loss 2.1400\n",
            "step 800: train loss 2.0406, val loss 2.0871\n",
            "step 900: train loss 1.9917, val loss 2.0527\n",
            "step 1000: train loss 1.9467, val loss 1.9944\n"
          ]
        }
      ]
    },
    {
      "cell_type": "code",
      "source": [],
      "metadata": {
        "id": "fjjvMifYZf7x"
      },
      "execution_count": null,
      "outputs": []
    }
  ]
}