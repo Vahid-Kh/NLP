{
  "nbformat": 4,
  "nbformat_minor": 0,
  "metadata": {
    "colab": {
      "provenance": [],
      "include_colab_link": true
    },
    "kernelspec": {
      "name": "python3",
      "display_name": "Python 3"
    },
    "language_info": {
      "name": "python"
    }
  },
  "cells": [
    {
      "cell_type": "markdown",
      "metadata": {
        "id": "view-in-github",
        "colab_type": "text"
      },
      "source": [
        "<a href=\"https://colab.research.google.com/github/Vahid-Kh/NLP/blob/main/gpt_dev_230222.ipynb\" target=\"_parent\"><img src=\"https://colab.research.google.com/assets/colab-badge.svg\" alt=\"Open In Colab\"/></a>"
      ]
    },
    {
      "cell_type": "markdown",
      "source": [
        "## Building a GPT\n",
        "\n",
        "Companion notebook to the [Zero To Hero](https://karpathy.ai/zero-to-hero.html) video on GPT."
      ],
      "metadata": {
        "id": "wJpXpmjEYC_T"
      }
    },
    {
      "cell_type": "code",
      "execution_count": 5,
      "metadata": {
        "colab": {
          "base_uri": "https://localhost:8080/"
        },
        "id": "h5hjCcLDr2WC",
        "outputId": "2cc55b3d-6a09-4642-e1f0-30980300d0d2"
      },
      "outputs": [
        {
          "output_type": "stream",
          "name": "stdout",
          "text": [
            "--2023-02-22 13:04:24--  https://github.com/Vahid-Kh/NLP/blob/da12adf98d303843e554adc71a4bd9ec1814bd93/test.txt\n",
            "Resolving github.com (github.com)... 192.30.255.112\n",
            "Connecting to github.com (github.com)|192.30.255.112|:443... connected.\n",
            "HTTP request sent, awaiting response... 200 OK\n",
            "Length: unspecified [text/html]\n",
            "Saving to: ‘test.txt.1’\n",
            "\n",
            "\rtest.txt.1              [<=>                 ]       0  --.-KB/s               \rtest.txt.1              [ <=>                ] 420.47K  --.-KB/s    in 0.04s   \n",
            "\n",
            "2023-02-22 13:04:24 (11.4 MB/s) - ‘test.txt.1’ saved [430562]\n",
            "\n"
          ]
        }
      ],
      "source": [
        "# We always start with a dataset to train on. Let's download the tiny shakespeare dataset\n",
        "!wget https://github.com/Vahid-Kh/NLP/blob/da12adf98d303843e554adc71a4bd9ec1814bd93/test.txt"
      ]
    },
    {
      "cell_type": "code",
      "source": [
        "# read it in to inspect it\n",
        "with open('/content/test.txt', 'r', encoding='utf-8') as f:\n",
        "    text = f.read()"
      ],
      "metadata": {
        "id": "O6medjfRsLD9"
      },
      "execution_count": 8,
      "outputs": []
    },
    {
      "cell_type": "code",
      "source": [
        "print(\"length of dataset in characters: \", len(text))"
      ],
      "metadata": {
        "colab": {
          "base_uri": "https://localhost:8080/"
        },
        "id": "6xWI_VyAsN8F",
        "outputId": "267738fa-6c3c-48fd-fdab-e842f3d319b6"
      },
      "execution_count": 9,
      "outputs": [
        {
          "output_type": "stream",
          "name": "stdout",
          "text": [
            "length of dataset in characters:  4042155\n"
          ]
        }
      ]
    },
    {
      "cell_type": "code",
      "source": [
        "# let's look at the first 1000 characters\n",
        "print(text[:1000])\n",
        "import re\n",
        "#text = re.sub(r'\\W+', ' ', text)\n",
        "chars_to_drop = \"ª¼ÂÃÎâ¡¢¤¥§¨©®°¶ˆ˜’‚“”†‰€™\"\n",
        "pattern = \"[\" + re.escape(chars_to_drop) + \"]\"\n",
        "text = re.sub(pattern, \"\", text)\n"
      ],
      "metadata": {
        "colab": {
          "base_uri": "https://localhost:8080/"
        },
        "id": "2c5V0FvqseE0",
        "outputId": "d5983391-9903-4b48-ac74-285fdae23936"
      },
      "execution_count": 12,
      "outputs": [
        {
          "output_type": "stream",
          "name": "stdout",
          "text": [
            "description\n",
            "HUMAN NECESSITIES\n",
            "AGRICULTURE; FORESTRY; ANIMAL HUSBANDRY; HUNTING; TRAPPING; FISHING\n",
            "SOIL WORKING IN AGRICULTURE OR FORESTRY; PARTS, DETAILS, OR ACCESSORIES OF AGRICULTURAL MACHINES OR IMPLEMENTS, IN GENERAL \n",
            "Hand tools \n",
            "Spades; Shovels\n",
            "with teeth\n",
            "Hoes; Hand cultivators\n",
            "with a single blade\n",
            "with two or more blades\n",
            "with blades provided with teeth\n",
            "with teeth only\n",
            "Tools for uprooting weeds\n",
            "Tong-like tools\n",
            "Combinations of different kinds of hand tools\n",
            "Attaching the blades or the like to handles ; Interchangeable or adjustable blades\n",
            "for treating meadows or lawns\n",
            "Ploughs\n",
            "Ploughs with fixed plough-shares\n",
            "Man-driven ploughs\n",
            "Animal-drawn ploughs\n",
            "without alternating possibility, i.e. incapable of making an adjacent furrow on return journey\n",
            "Swing ploughs\n",
            "Trussed-beam ploughs; Single-wheel ploughs\n",
            "Two-wheel beam ploughs\n",
            "Frame ploughs\n",
            "Alternating ploughs, i.e. capable of making an adjacent furrow on return journey\n",
            "Turn-wrest ploughs\n",
            "Balance ploughs\n",
            "with parallel plough units used alter\n"
          ]
        }
      ]
    },
    {
      "cell_type": "code",
      "source": [
        "# here are all the unique characters that occur in this text\n",
        "chars = sorted(list(set(text)))\n",
        "vocab_size = len(chars)\n",
        "print(''.join(chars))\n",
        "print(vocab_size)"
      ],
      "metadata": {
        "colab": {
          "base_uri": "https://localhost:8080/"
        },
        "id": "0e-Rbyr8sfM8",
        "outputId": "2dfe29de-a47c-4dc6-ed34-19152c28a783"
      },
      "execution_count": 13,
      "outputs": [
        {
          "output_type": "stream",
          "name": "stdout",
          "text": [
            "\n",
            " \"%'()+,-./0123456789:;<=>ABCDEFGHIJKLMNOPQRSTUVWXYZ[]abcdefghijklmnopqrstuvwxyz \n",
            "82\n"
          ]
        }
      ]
    },
    {
      "cell_type": "code",
      "source": [
        "# create a mapping from characters to integers\n",
        "stoi = { ch:i for i,ch in enumerate(chars) }\n",
        "itos = { i:ch for i,ch in enumerate(chars) }\n",
        "encode = lambda s: [stoi[c] for c in s] # encoder: take a string, output a list of integers\n",
        "decode = lambda l: ''.join([itos[i] for i in l]) # decoder: take a list of integers, output a string\n",
        "\n",
        "print(encode(\"hii there\"))\n",
        "print(decode(encode(\"hii there\")))"
      ],
      "metadata": {
        "colab": {
          "base_uri": "https://localhost:8080/"
        },
        "id": "Yw1LKNCgwjj1",
        "outputId": "44e4d14e-c87a-479a-c3fe-e942450358d1"
      },
      "execution_count": 14,
      "outputs": [
        {
          "output_type": "stream",
          "name": "stdout",
          "text": [
            "[62, 63, 63, 1, 74, 62, 59, 72, 59]\n",
            "hii there\n"
          ]
        }
      ]
    },
    {
      "cell_type": "code",
      "source": [
        "# let's now encode the entire text dataset and store it into a torch.Tensor\n",
        "import torch # we use PyTorch: https://pytorch.org\n",
        "data = torch.tensor(encode(text), dtype=torch.long)\n",
        "print(data.shape, data.dtype)\n",
        "print(data[:1000]) # the 1000 characters we looked at earier will to the GPT look like this"
      ],
      "metadata": {
        "colab": {
          "base_uri": "https://localhost:8080/"
        },
        "id": "YJb0OXPwzvqg",
        "outputId": "130d076f-08cc-4e16-b031-2cd5a1842e9f"
      },
      "execution_count": 15,
      "outputs": [
        {
          "output_type": "stream",
          "name": "stdout",
          "text": [
            "torch.Size([4040531]) torch.int64\n",
            "tensor([58, 59, 73, 57, 72, 63, 70, 74, 63, 69, 68,  0, 34, 47, 39, 27, 40,  1,\n",
            "        40, 31, 29, 31, 45, 45, 35, 46, 35, 31, 45,  0, 27, 33, 44, 35, 29, 47,\n",
            "        38, 46, 47, 44, 31, 23,  1, 32, 41, 44, 31, 45, 46, 44, 51, 23,  1, 27,\n",
            "        40, 35, 39, 27, 38,  1, 34, 47, 45, 28, 27, 40, 30, 44, 51, 23,  1, 34,\n",
            "        47, 40, 46, 35, 40, 33, 23,  1, 46, 44, 27, 42, 42, 35, 40, 33, 23,  1,\n",
            "        32, 35, 45, 34, 35, 40, 33,  0, 45, 41, 35, 38,  1, 49, 41, 44, 37, 35,\n",
            "        40, 33,  1, 35, 40,  1, 27, 33, 44, 35, 29, 47, 38, 46, 47, 44, 31,  1,\n",
            "        41, 44,  1, 32, 41, 44, 31, 45, 46, 44, 51, 23,  1, 42, 27, 44, 46, 45,\n",
            "         8,  1, 30, 31, 46, 27, 35, 38, 45,  8,  1, 41, 44,  1, 27, 29, 29, 31,\n",
            "        45, 45, 41, 44, 35, 31, 45,  1, 41, 32,  1, 27, 33, 44, 35, 29, 47, 38,\n",
            "        46, 47, 44, 27, 38,  1, 39, 27, 29, 34, 35, 40, 31, 45,  1, 41, 44,  1,\n",
            "        35, 39, 42, 38, 31, 39, 31, 40, 46, 45,  8,  1, 35, 40,  1, 33, 31, 40,\n",
            "        31, 44, 27, 38,  1,  0, 34, 55, 68, 58,  1, 74, 69, 69, 66, 73,  1,  0,\n",
            "        45, 70, 55, 58, 59, 73, 23,  1, 45, 62, 69, 76, 59, 66, 73,  0, 77, 63,\n",
            "        74, 62,  1, 74, 59, 59, 74, 62,  0, 34, 69, 59, 73, 23,  1, 34, 55, 68,\n",
            "        58,  1, 57, 75, 66, 74, 63, 76, 55, 74, 69, 72, 73,  0, 77, 63, 74, 62,\n",
            "         1, 55,  1, 73, 63, 68, 61, 66, 59,  1, 56, 66, 55, 58, 59,  0, 77, 63,\n",
            "        74, 62,  1, 74, 77, 69,  1, 69, 72,  1, 67, 69, 72, 59,  1, 56, 66, 55,\n",
            "        58, 59, 73,  0, 77, 63, 74, 62,  1, 56, 66, 55, 58, 59, 73,  1, 70, 72,\n",
            "        69, 76, 63, 58, 59, 58,  1, 77, 63, 74, 62,  1, 74, 59, 59, 74, 62,  0,\n",
            "        77, 63, 74, 62,  1, 74, 59, 59, 74, 62,  1, 69, 68, 66, 79,  0, 46, 69,\n",
            "        69, 66, 73,  1, 60, 69, 72,  1, 75, 70, 72, 69, 69, 74, 63, 68, 61,  1,\n",
            "        77, 59, 59, 58, 73,  0, 46, 69, 68, 61,  9, 66, 63, 65, 59,  1, 74, 69,\n",
            "        69, 66, 73,  0, 29, 69, 67, 56, 63, 68, 55, 74, 63, 69, 68, 73,  1, 69,\n",
            "        60,  1, 58, 63, 60, 60, 59, 72, 59, 68, 74,  1, 65, 63, 68, 58, 73,  1,\n",
            "        69, 60,  1, 62, 55, 68, 58,  1, 74, 69, 69, 66, 73,  0, 27, 74, 74, 55,\n",
            "        57, 62, 63, 68, 61,  1, 74, 62, 59,  1, 56, 66, 55, 58, 59, 73,  1, 69,\n",
            "        72,  1, 74, 62, 59,  1, 66, 63, 65, 59,  1, 74, 69,  1, 62, 55, 68, 58,\n",
            "        66, 59, 73,  1, 23,  1, 35, 68, 74, 59, 72, 57, 62, 55, 68, 61, 59, 55,\n",
            "        56, 66, 59,  1, 69, 72,  1, 55, 58, 64, 75, 73, 74, 55, 56, 66, 59,  1,\n",
            "        56, 66, 55, 58, 59, 73,  0, 60, 69, 72,  1, 74, 72, 59, 55, 74, 63, 68,\n",
            "        61,  1, 67, 59, 55, 58, 69, 77, 73,  1, 69, 72,  1, 66, 55, 77, 68, 73,\n",
            "         0, 42, 66, 69, 75, 61, 62, 73,  0, 42, 66, 69, 75, 61, 62, 73,  1, 77,\n",
            "        63, 74, 62,  1, 60, 63, 78, 59, 58,  1, 70, 66, 69, 75, 61, 62,  9, 73,\n",
            "        62, 55, 72, 59, 73,  0, 39, 55, 68,  9, 58, 72, 63, 76, 59, 68,  1, 70,\n",
            "        66, 69, 75, 61, 62, 73,  0, 27, 68, 63, 67, 55, 66,  9, 58, 72, 55, 77,\n",
            "        68,  1, 70, 66, 69, 75, 61, 62, 73,  0, 77, 63, 74, 62, 69, 75, 74,  1,\n",
            "        55, 66, 74, 59, 72, 68, 55, 74, 63, 68, 61,  1, 70, 69, 73, 73, 63, 56,\n",
            "        63, 66, 63, 74, 79,  8,  1, 63, 10, 59, 10,  1, 63, 68, 57, 55, 70, 55,\n",
            "        56, 66, 59,  1, 69, 60,  1, 67, 55, 65, 63, 68, 61,  1, 55, 68,  1, 55,\n",
            "        58, 64, 55, 57, 59, 68, 74,  1, 60, 75, 72, 72, 69, 77,  1, 69, 68,  1,\n",
            "        72, 59, 74, 75, 72, 68,  1, 64, 69, 75, 72, 68, 59, 79,  0, 45, 77, 63,\n",
            "        68, 61,  1, 70, 66, 69, 75, 61, 62, 73,  0, 46, 72, 75, 73, 73, 59, 58,\n",
            "         9, 56, 59, 55, 67,  1, 70, 66, 69, 75, 61, 62, 73, 23,  1, 45, 63, 68,\n",
            "        61, 66, 59,  9, 77, 62, 59, 59, 66,  1, 70, 66, 69, 75, 61, 62, 73,  0,\n",
            "        46, 77, 69,  9, 77, 62, 59, 59, 66,  1, 56, 59, 55, 67,  1, 70, 66, 69,\n",
            "        75, 61, 62, 73,  0, 32, 72, 55, 67, 59,  1, 70, 66, 69, 75, 61, 62, 73,\n",
            "         0, 27, 66, 74, 59, 72, 68, 55, 74, 63, 68, 61,  1, 70, 66, 69, 75, 61,\n",
            "        62, 73,  8,  1, 63, 10, 59, 10,  1, 57, 55, 70, 55, 56, 66, 59,  1, 69,\n",
            "        60,  1, 67, 55, 65, 63, 68, 61,  1, 55, 68,  1, 55, 58, 64, 55, 57, 59,\n",
            "        68, 74,  1, 60, 75, 72, 72, 69, 77,  1, 69, 68,  1, 72, 59, 74, 75, 72,\n",
            "        68,  1, 64, 69, 75, 72, 68, 59, 79,  0, 46, 75, 72, 68,  9, 77, 72, 59,\n",
            "        73, 74,  1, 70, 66, 69, 75, 61, 62, 73,  0, 28, 55, 66, 55, 68, 57, 59,\n",
            "         1, 70, 66, 69, 75, 61, 62, 73,  0, 77, 63, 74, 62,  1, 70, 55, 72, 55,\n",
            "        66, 66, 59, 66,  1, 70, 66, 69, 75, 61, 62,  1, 75, 68, 63, 74, 73,  1,\n",
            "        75, 73, 59, 58,  1, 55, 66, 74, 59, 72])\n"
          ]
        }
      ]
    },
    {
      "cell_type": "code",
      "source": [
        "# Let's now split up the data into train and validation sets\n",
        "n = int(0.9*len(data)) # first 90% will be train, rest val\n",
        "train_data = data[:n]\n",
        "val_data = data[n:]"
      ],
      "metadata": {
        "id": "f_WIXqxz0lU5"
      },
      "execution_count": 16,
      "outputs": []
    },
    {
      "cell_type": "code",
      "source": [
        "block_size = 8\n",
        "train_data[:block_size+1]"
      ],
      "metadata": {
        "colab": {
          "base_uri": "https://localhost:8080/"
        },
        "id": "TD5Bj8Y6IAD4",
        "outputId": "47d6e3e6-90bc-40d3-dcd8-25c4e14f8dac"
      },
      "execution_count": 17,
      "outputs": [
        {
          "output_type": "execute_result",
          "data": {
            "text/plain": [
              "tensor([58, 59, 73, 57, 72, 63, 70, 74, 63])"
            ]
          },
          "metadata": {},
          "execution_count": 17
        }
      ]
    },
    {
      "cell_type": "code",
      "source": [
        "x = train_data[:block_size]\n",
        "y = train_data[1:block_size+1]\n",
        "for t in range(block_size):\n",
        "    context = x[:t+1]\n",
        "    target = y[t]\n",
        "    print(f\"when input is {context} the target: {target}\")"
      ],
      "metadata": {
        "colab": {
          "base_uri": "https://localhost:8080/"
        },
        "id": "9HXDe8vGJCEn",
        "outputId": "1dc7573f-67e7-4db8-860b-23f5c60e8224"
      },
      "execution_count": 18,
      "outputs": [
        {
          "output_type": "stream",
          "name": "stdout",
          "text": [
            "when input is tensor([58]) the target: 59\n",
            "when input is tensor([58, 59]) the target: 73\n",
            "when input is tensor([58, 59, 73]) the target: 57\n",
            "when input is tensor([58, 59, 73, 57]) the target: 72\n",
            "when input is tensor([58, 59, 73, 57, 72]) the target: 63\n",
            "when input is tensor([58, 59, 73, 57, 72, 63]) the target: 70\n",
            "when input is tensor([58, 59, 73, 57, 72, 63, 70]) the target: 74\n",
            "when input is tensor([58, 59, 73, 57, 72, 63, 70, 74]) the target: 63\n"
          ]
        }
      ]
    },
    {
      "cell_type": "code",
      "source": [
        "torch.manual_seed(1337)\n",
        "batch_size = 4 # how many independent sequences will we process in parallel?\n",
        "block_size = 8 # what is the maximum context length for predictions?\n",
        "\n",
        "def get_batch(split):\n",
        "    # generate a small batch of data of inputs x and targets y\n",
        "    data = train_data if split == 'train' else val_data\n",
        "    ix = torch.randint(len(data) - block_size, (batch_size,))\n",
        "    x = torch.stack([data[i:i+block_size] for i in ix])\n",
        "    y = torch.stack([data[i+1:i+block_size+1] for i in ix])\n",
        "    return x, y\n",
        "\n",
        "xb, yb = get_batch('train')\n",
        "print('inputs:')\n",
        "print(xb.shape)\n",
        "print(xb)\n",
        "print('targets:')\n",
        "print(yb.shape)\n",
        "print(yb)\n",
        "\n",
        "print('----')\n",
        "\n",
        "for b in range(batch_size): # batch dimension\n",
        "    for t in range(block_size): # time dimension\n",
        "        context = xb[b, :t+1]\n",
        "        target = yb[b,t]\n",
        "        print(f\"when input is {context.tolist()} the target: {target}\")"
      ],
      "metadata": {
        "colab": {
          "base_uri": "https://localhost:8080/"
        },
        "id": "Q3k1Czf7LuA9",
        "outputId": "aff86af8-4633-46e6-f1c0-151dff01a9cd"
      },
      "execution_count": 19,
      "outputs": [
        {
          "output_type": "stream",
          "name": "stdout",
          "text": [
            "inputs:\n",
            "torch.Size([4, 8])\n",
            "tensor([[66, 63, 57,  1, 72, 63, 68, 61],\n",
            "        [74, 63, 58, 59, 73,  1, 69, 72],\n",
            "        [55, 74, 63, 69, 68,  8,  1, 58],\n",
            "        [68, 59, 73, 59,  1, 69, 78, 63]])\n",
            "targets:\n",
            "torch.Size([4, 8])\n",
            "tensor([[63, 57,  1, 72, 63, 68, 61, 73],\n",
            "        [63, 58, 59, 73,  1, 69, 72,  1],\n",
            "        [74, 63, 69, 68,  8,  1, 58, 59],\n",
            "        [59, 73, 59,  1, 69, 78, 63, 58]])\n",
            "----\n",
            "when input is [66] the target: 63\n",
            "when input is [66, 63] the target: 57\n",
            "when input is [66, 63, 57] the target: 1\n",
            "when input is [66, 63, 57, 1] the target: 72\n",
            "when input is [66, 63, 57, 1, 72] the target: 63\n",
            "when input is [66, 63, 57, 1, 72, 63] the target: 68\n",
            "when input is [66, 63, 57, 1, 72, 63, 68] the target: 61\n",
            "when input is [66, 63, 57, 1, 72, 63, 68, 61] the target: 73\n",
            "when input is [74] the target: 63\n",
            "when input is [74, 63] the target: 58\n",
            "when input is [74, 63, 58] the target: 59\n",
            "when input is [74, 63, 58, 59] the target: 73\n",
            "when input is [74, 63, 58, 59, 73] the target: 1\n",
            "when input is [74, 63, 58, 59, 73, 1] the target: 69\n",
            "when input is [74, 63, 58, 59, 73, 1, 69] the target: 72\n",
            "when input is [74, 63, 58, 59, 73, 1, 69, 72] the target: 1\n",
            "when input is [55] the target: 74\n",
            "when input is [55, 74] the target: 63\n",
            "when input is [55, 74, 63] the target: 69\n",
            "when input is [55, 74, 63, 69] the target: 68\n",
            "when input is [55, 74, 63, 69, 68] the target: 8\n",
            "when input is [55, 74, 63, 69, 68, 8] the target: 1\n",
            "when input is [55, 74, 63, 69, 68, 8, 1] the target: 58\n",
            "when input is [55, 74, 63, 69, 68, 8, 1, 58] the target: 59\n",
            "when input is [68] the target: 59\n",
            "when input is [68, 59] the target: 73\n",
            "when input is [68, 59, 73] the target: 59\n",
            "when input is [68, 59, 73, 59] the target: 1\n",
            "when input is [68, 59, 73, 59, 1] the target: 69\n",
            "when input is [68, 59, 73, 59, 1, 69] the target: 78\n",
            "when input is [68, 59, 73, 59, 1, 69, 78] the target: 63\n",
            "when input is [68, 59, 73, 59, 1, 69, 78, 63] the target: 58\n"
          ]
        }
      ]
    },
    {
      "cell_type": "code",
      "source": [
        "print(xb) # our input to the transformer"
      ],
      "metadata": {
        "colab": {
          "base_uri": "https://localhost:8080/"
        },
        "id": "qpyyAeIzQjlO",
        "outputId": "606fcc16-e066-4347-d998-05f990af4956"
      },
      "execution_count": 20,
      "outputs": [
        {
          "output_type": "stream",
          "name": "stdout",
          "text": [
            "tensor([[66, 63, 57,  1, 72, 63, 68, 61],\n",
            "        [74, 63, 58, 59, 73,  1, 69, 72],\n",
            "        [55, 74, 63, 69, 68,  8,  1, 58],\n",
            "        [68, 59, 73, 59,  1, 69, 78, 63]])\n"
          ]
        }
      ]
    },
    {
      "cell_type": "code",
      "source": [
        "import torch\n",
        "import torch.nn as nn\n",
        "from torch.nn import functional as F\n",
        "torch.manual_seed(1337)\n",
        "\n",
        "class BigramLanguageModel(nn.Module):\n",
        "\n",
        "    def __init__(self, vocab_size):\n",
        "        super().__init__()\n",
        "        # each token directly reads off the logits for the next token from a lookup table\n",
        "        self.token_embedding_table = nn.Embedding(vocab_size, vocab_size)\n",
        "\n",
        "    def forward(self, idx, targets=None):\n",
        "\n",
        "        # idx and targets are both (B,T) tensor of integers\n",
        "        logits = self.token_embedding_table(idx) # (B,T,C)\n",
        "        \n",
        "        if targets is None:\n",
        "            loss = None\n",
        "        else:\n",
        "            B, T, C = logits.shape\n",
        "            logits = logits.view(B*T, C)\n",
        "            targets = targets.view(B*T)\n",
        "            loss = F.cross_entropy(logits, targets)\n",
        "\n",
        "        return logits, loss\n",
        "    \n",
        "    def generate(self, idx, max_new_tokens):\n",
        "        # idx is (B, T) array of indices in the current context\n",
        "        for _ in range(max_new_tokens):\n",
        "            # get the predictions\n",
        "            logits, loss = self(idx)\n",
        "            # focus only on the last time step\n",
        "            logits = logits[:, -1, :] # becomes (B, C)\n",
        "            # apply softmax to get probabilities\n",
        "            probs = F.softmax(logits, dim=-1) # (B, C)\n",
        "            # sample from the distribution\n",
        "            idx_next = torch.multinomial(probs, num_samples=1) # (B, 1)\n",
        "            # append sampled index to the running sequence\n",
        "            idx = torch.cat((idx, idx_next), dim=1) # (B, T+1)\n",
        "        return idx\n",
        "\n",
        "m = BigramLanguageModel(vocab_size)\n",
        "logits, loss = m(xb, yb)\n",
        "print(logits.shape)\n",
        "print(loss)\n",
        "\n",
        "print(decode(m.generate(idx = torch.zeros((1, 1), dtype=torch.long), max_new_tokens=100)[0].tolist()))\n"
      ],
      "metadata": {
        "colab": {
          "base_uri": "https://localhost:8080/"
        },
        "id": "nql_1ER53oCf",
        "outputId": "b6ea9c80-08b9-4616-99c4-dc5d4c6851f6"
      },
      "execution_count": 21,
      "outputs": [
        {
          "output_type": "stream",
          "name": "stdout",
          "text": [
            "torch.Size([32, 82])\n",
            "tensor(4.8566, grad_fn=<NllLossBackward0>)\n",
            "\n",
            "3/;4mKMOJyiCoE)9FzPPVX1fdFJaYJ%1PSUFhV<VQTffdeti;JTfX':%'v8fH O.2G,NsQ+Y\"(o<gghJBXONb6:yBExdq+Z'gr'b\n"
          ]
        }
      ]
    },
    {
      "cell_type": "code",
      "source": [
        "# create a PyTorch optimizer\n",
        "optimizer = torch.optim.AdamW(m.parameters(), lr=1e-3)"
      ],
      "metadata": {
        "id": "eTyJ8qAaDdiF"
      },
      "execution_count": 22,
      "outputs": []
    },
    {
      "cell_type": "code",
      "source": [
        "batch_size = 32\n",
        "for steps in range(100): # increase number of steps for good results... \n",
        "    \n",
        "    # sample a batch of data\n",
        "    xb, yb = get_batch('train')\n",
        "\n",
        "    # evaluate the loss\n",
        "    logits, loss = m(xb, yb)\n",
        "    optimizer.zero_grad(set_to_none=True)\n",
        "    loss.backward()\n",
        "    optimizer.step()\n",
        "\n",
        "print(loss.item())\n"
      ],
      "metadata": {
        "colab": {
          "base_uri": "https://localhost:8080/"
        },
        "id": "Hs4kI8YdEkQj",
        "outputId": "55dc19a7-2c2c-4281-fa57-20b5ea9f4017"
      },
      "execution_count": 23,
      "outputs": [
        {
          "output_type": "stream",
          "name": "stdout",
          "text": [
            "4.808898448944092\n"
          ]
        }
      ]
    },
    {
      "cell_type": "code",
      "source": [
        "print(decode(m.generate(idx = torch.zeros((1, 1), dtype=torch.long), max_new_tokens=500)[0].tolist()))"
      ],
      "metadata": {
        "colab": {
          "base_uri": "https://localhost:8080/"
        },
        "id": "EcVIDWAZEtjN",
        "outputId": "481ef765-3937-4f01-bcdf-1c393c1f56ee"
      },
      "execution_count": 24,
      "outputs": [
        {
          "output_type": "stream",
          "name": "stdout",
          "text": [
            "\n",
            "EjwF)d8J/t02UYf[53A<uM%m6  OVaz%[8UTn1 AW<]JHGg:NW;Jo<2ukef(/tg7XTUX+NFn] 5Qa ,P[XOsaDOUR=QT<D)eRb9LG012r]\"EJvGq]kYGn70teW;B/b;3Q8dAGlv\"7;jMGDk ULGt=w:)Llkk3WYhZVJf.=8OItxE1p3 mSXO8G9.\"[Hr[v\"(Y6rn6/H[SKP4ak=7Oq\n",
            "E90jy=E[H[Bz cNm.=1-hlkv\"E1u4OJ< '6rnT8MuOI4tei(nT]DwRtZvvQ)Nk5Ip%R]ga )9/GnEt;SYp97>Oi+kuxW GDk5HTlk=VUTK1mK-kJkvPy>Da:h(/<DwuIML-;gv\"Rh>2bTS9Ai,-R+ew:<'QtND9.lB1U.\"fy0qCteJZm\n",
            "r'Jo<u96\n",
            "E)beG2U,]o7Y=O1C9sL\"D[V,\"qOblcy5HKGgTC- O02CbWYxYU5Bv/If1.d A\n",
            "uRPPoGlk)J<u4: r[H%w9V21v/ND,u B/M+9'MYFL\n"
          ]
        }
      ]
    },
    {
      "cell_type": "markdown",
      "source": [
        "## The mathematical trick in self-attention"
      ],
      "metadata": {
        "id": "XinV8nmAnmKN"
      }
    },
    {
      "cell_type": "code",
      "source": [
        "# toy example illustrating how matrix multiplication can be used for a \"weighted aggregation\"\n",
        "torch.manual_seed(42)\n",
        "a = torch.tril(torch.ones(3, 3))\n",
        "a = a / torch.sum(a, 1, keepdim=True)\n",
        "b = torch.randint(0,10,(3,2)).float()\n",
        "c = a @ b\n",
        "print('a=')\n",
        "print(a)\n",
        "print('--')\n",
        "print('b=')\n",
        "print(b)\n",
        "print('--')\n",
        "print('c=')\n",
        "print(c)"
      ],
      "metadata": {
        "colab": {
          "base_uri": "https://localhost:8080/"
        },
        "id": "tukiH-NbRBhA",
        "outputId": "dfd8772c-1171-49e8-c39c-4baf58aa0792"
      },
      "execution_count": 25,
      "outputs": [
        {
          "output_type": "stream",
          "name": "stdout",
          "text": [
            "a=\n",
            "tensor([[1.0000, 0.0000, 0.0000],\n",
            "        [0.5000, 0.5000, 0.0000],\n",
            "        [0.3333, 0.3333, 0.3333]])\n",
            "--\n",
            "b=\n",
            "tensor([[2., 7.],\n",
            "        [6., 4.],\n",
            "        [6., 5.]])\n",
            "--\n",
            "c=\n",
            "tensor([[2.0000, 7.0000],\n",
            "        [4.0000, 5.5000],\n",
            "        [4.6667, 5.3333]])\n"
          ]
        }
      ]
    },
    {
      "cell_type": "code",
      "source": [
        "# consider the following toy example:\n",
        "\n",
        "torch.manual_seed(1337)\n",
        "B,T,C = 4,8,2 # batch, time, channels\n",
        "x = torch.randn(B,T,C)\n",
        "x.shape"
      ],
      "metadata": {
        "colab": {
          "base_uri": "https://localhost:8080/"
        },
        "id": "Hs_E24uRE8kr",
        "outputId": "a00f5b77-6382-46f7-c808-a6c610d88309"
      },
      "execution_count": 26,
      "outputs": [
        {
          "output_type": "execute_result",
          "data": {
            "text/plain": [
              "torch.Size([4, 8, 2])"
            ]
          },
          "metadata": {},
          "execution_count": 26
        }
      ]
    },
    {
      "cell_type": "code",
      "source": [
        "# We want x[b,t] = mean_{i<=t} x[b,i]\n",
        "xbow = torch.zeros((B,T,C))\n",
        "for b in range(B):\n",
        "    for t in range(T):\n",
        "        xprev = x[b,:t+1] # (t,C)\n",
        "        xbow[b,t] = torch.mean(xprev, 0)\n"
      ],
      "metadata": {
        "id": "86NuXX0fn7ps"
      },
      "execution_count": 27,
      "outputs": []
    },
    {
      "cell_type": "code",
      "source": [
        "# version 2: using matrix multiply for a weighted aggregation\n",
        "wei = torch.tril(torch.ones(T, T))\n",
        "wei = wei / wei.sum(1, keepdim=True)\n",
        "xbow2 = wei @ x # (B, T, T) @ (B, T, C) ----> (B, T, C)\n",
        "torch.allclose(xbow, xbow2)"
      ],
      "metadata": {
        "colab": {
          "base_uri": "https://localhost:8080/"
        },
        "id": "yhdOAd6-wXkZ",
        "outputId": "506b6397-e6b3-4f64-a671-6d3ae02d681d"
      },
      "execution_count": 28,
      "outputs": [
        {
          "output_type": "execute_result",
          "data": {
            "text/plain": [
              "True"
            ]
          },
          "metadata": {},
          "execution_count": 28
        }
      ]
    },
    {
      "cell_type": "code",
      "source": [
        "# version 3: use Softmax\n",
        "tril = torch.tril(torch.ones(T, T))\n",
        "wei = torch.zeros((T,T))\n",
        "wei = wei.masked_fill(tril == 0, float('-inf'))\n",
        "wei = F.softmax(wei, dim=-1)\n",
        "xbow3 = wei @ x\n",
        "torch.allclose(xbow, xbow3)\n"
      ],
      "metadata": {
        "colab": {
          "base_uri": "https://localhost:8080/"
        },
        "id": "wOURrfG-ysoL",
        "outputId": "201ee681-ed8d-4105-899a-b86049e9367f"
      },
      "execution_count": 29,
      "outputs": [
        {
          "output_type": "execute_result",
          "data": {
            "text/plain": [
              "True"
            ]
          },
          "metadata": {},
          "execution_count": 29
        }
      ]
    },
    {
      "cell_type": "code",
      "source": [
        "# version 4: self-attention!\n",
        "torch.manual_seed(1337)\n",
        "B,T,C = 4,8,32 # batch, time, channels\n",
        "x = torch.randn(B,T,C)\n",
        "\n",
        "# let's see a single Head perform self-attention\n",
        "head_size = 16\n",
        "key = nn.Linear(C, head_size, bias=False)\n",
        "query = nn.Linear(C, head_size, bias=False)\n",
        "value = nn.Linear(C, head_size, bias=False)\n",
        "k = key(x)   # (B, T, 16)\n",
        "q = query(x) # (B, T, 16)\n",
        "wei =  q @ k.transpose(-2, -1) # (B, T, 16) @ (B, 16, T) ---> (B, T, T)\n",
        "\n",
        "tril = torch.tril(torch.ones(T, T))\n",
        "#wei = torch.zeros((T,T))\n",
        "wei = wei.masked_fill(tril == 0, float('-inf'))\n",
        "wei = F.softmax(wei, dim=-1)\n",
        "\n",
        "v = value(x)\n",
        "out = wei @ v\n",
        "#out = wei @ x\n",
        "\n",
        "out.shape"
      ],
      "metadata": {
        "colab": {
          "base_uri": "https://localhost:8080/"
        },
        "id": "EDarxEWIRMKq",
        "outputId": "e952eaf0-5473-43f2-91c3-6b541378f8d4"
      },
      "execution_count": 30,
      "outputs": [
        {
          "output_type": "execute_result",
          "data": {
            "text/plain": [
              "torch.Size([4, 8, 16])"
            ]
          },
          "metadata": {},
          "execution_count": 30
        }
      ]
    },
    {
      "cell_type": "code",
      "source": [
        "wei[0]"
      ],
      "metadata": {
        "colab": {
          "base_uri": "https://localhost:8080/"
        },
        "id": "vT1hdtzXCjgL",
        "outputId": "130cead2-df13-4964-8fc5-5dfe834e119c"
      },
      "execution_count": 31,
      "outputs": [
        {
          "output_type": "execute_result",
          "data": {
            "text/plain": [
              "tensor([[1.0000, 0.0000, 0.0000, 0.0000, 0.0000, 0.0000, 0.0000, 0.0000],\n",
              "        [0.1574, 0.8426, 0.0000, 0.0000, 0.0000, 0.0000, 0.0000, 0.0000],\n",
              "        [0.2088, 0.1646, 0.6266, 0.0000, 0.0000, 0.0000, 0.0000, 0.0000],\n",
              "        [0.5792, 0.1187, 0.1889, 0.1131, 0.0000, 0.0000, 0.0000, 0.0000],\n",
              "        [0.0294, 0.1052, 0.0469, 0.0276, 0.7909, 0.0000, 0.0000, 0.0000],\n",
              "        [0.0176, 0.2689, 0.0215, 0.0089, 0.6812, 0.0019, 0.0000, 0.0000],\n",
              "        [0.1691, 0.4066, 0.0438, 0.0416, 0.1048, 0.2012, 0.0329, 0.0000],\n",
              "        [0.0210, 0.0843, 0.0555, 0.2297, 0.0573, 0.0709, 0.2423, 0.2391]],\n",
              "       grad_fn=<SelectBackward0>)"
            ]
          },
          "metadata": {},
          "execution_count": 31
        }
      ]
    },
    {
      "cell_type": "markdown",
      "source": [
        "Notes:\n",
        "- Attention is a **communication mechanism**. Can be seen as nodes in a directed graph looking at each other and aggregating information with a weighted sum from all nodes that point to them, with data-dependent weights.\n",
        "- There is no notion of space. Attention simply acts over a set of vectors. This is why we need to positionally encode tokens.\n",
        "- Each example across batch dimension is of course processed completely independently and never \"talk\" to each other\n",
        "- In an \"encoder\" attention block just delete the single line that does masking with `tril`, allowing all tokens to communicate. This block here is called a \"decoder\" attention block because it has triangular masking, and is usually used in autoregressive settings, like language modeling.\n",
        "- \"self-attention\" just means that the keys and values are produced from the same source as queries. In \"cross-attention\", the queries still get produced from x, but the keys and values come from some other, external source (e.g. an encoder module)\n",
        "- \"Scaled\" attention additional divides `wei` by 1/sqrt(head_size). This makes it so when input Q,K are unit variance, wei will be unit variance too and Softmax will stay diffuse and not saturate too much. Illustration below"
      ],
      "metadata": {
        "id": "M5CvobiQ0pLr"
      }
    },
    {
      "cell_type": "code",
      "source": [
        "k = torch.randn(B,T,head_size)\n",
        "q = torch.randn(B,T,head_size)\n",
        "wei = q @ k.transpose(-2, -1) * head_size**-0.5"
      ],
      "metadata": {
        "id": "4SNbLq5z3oBw"
      },
      "execution_count": 32,
      "outputs": []
    },
    {
      "cell_type": "code",
      "source": [
        "k.var()"
      ],
      "metadata": {
        "colab": {
          "base_uri": "https://localhost:8080/"
        },
        "id": "Nl6I9n9IRTSo",
        "outputId": "56a7a78f-961d-441c-b0d7-511b31159d1e"
      },
      "execution_count": 33,
      "outputs": [
        {
          "output_type": "execute_result",
          "data": {
            "text/plain": [
              "tensor(1.0449)"
            ]
          },
          "metadata": {},
          "execution_count": 33
        }
      ]
    },
    {
      "cell_type": "code",
      "source": [
        "q.var()"
      ],
      "metadata": {
        "colab": {
          "base_uri": "https://localhost:8080/"
        },
        "id": "T1tQx7oeRvtc",
        "outputId": "0194664f-0bce-4c23-b21b-4111f92a11f2"
      },
      "execution_count": 34,
      "outputs": [
        {
          "output_type": "execute_result",
          "data": {
            "text/plain": [
              "tensor(1.0700)"
            ]
          },
          "metadata": {},
          "execution_count": 34
        }
      ]
    },
    {
      "cell_type": "code",
      "source": [
        "wei.var()"
      ],
      "metadata": {
        "colab": {
          "base_uri": "https://localhost:8080/"
        },
        "id": "MLb_odHU3iKM",
        "outputId": "284bf3ca-9a6b-44f6-bdce-c984ba0583f2"
      },
      "execution_count": 35,
      "outputs": [
        {
          "output_type": "execute_result",
          "data": {
            "text/plain": [
              "tensor(1.0918)"
            ]
          },
          "metadata": {},
          "execution_count": 35
        }
      ]
    },
    {
      "cell_type": "code",
      "source": [
        "torch.softmax(torch.tensor([0.1, -0.2, 0.3, -0.2, 0.5]), dim=-1)"
      ],
      "metadata": {
        "colab": {
          "base_uri": "https://localhost:8080/"
        },
        "id": "JB82yzt44REI",
        "outputId": "2e51e484-bf71-4912-c6e1-7e7293b6f9c8"
      },
      "execution_count": 36,
      "outputs": [
        {
          "output_type": "execute_result",
          "data": {
            "text/plain": [
              "tensor([0.1925, 0.1426, 0.2351, 0.1426, 0.2872])"
            ]
          },
          "metadata": {},
          "execution_count": 36
        }
      ]
    },
    {
      "cell_type": "code",
      "source": [
        "torch.softmax(torch.tensor([0.1, -0.2, 0.3, -0.2, 0.5])*8, dim=-1) # gets too peaky, converges to one-hot"
      ],
      "metadata": {
        "colab": {
          "base_uri": "https://localhost:8080/"
        },
        "id": "Mpt8569BB9_f",
        "outputId": "6248da64-648c-4d4c-e6bb-bff75bf97b6a"
      },
      "execution_count": 37,
      "outputs": [
        {
          "output_type": "execute_result",
          "data": {
            "text/plain": [
              "tensor([0.0326, 0.0030, 0.1615, 0.0030, 0.8000])"
            ]
          },
          "metadata": {},
          "execution_count": 37
        }
      ]
    },
    {
      "cell_type": "code",
      "source": [
        "class LayerNorm1d: # (used to be BatchNorm1d)\n",
        "  \n",
        "  def __init__(self, dim, eps=1e-5, momentum=0.1):\n",
        "    self.eps = eps\n",
        "    self.gamma = torch.ones(dim)\n",
        "    self.beta = torch.zeros(dim)\n",
        "  \n",
        "  def __call__(self, x):\n",
        "    # calculate the forward pass\n",
        "    xmean = x.mean(1, keepdim=True) # batch mean\n",
        "    xvar = x.var(1, keepdim=True) # batch variance\n",
        "    xhat = (x - xmean) / torch.sqrt(xvar + self.eps) # normalize to unit variance\n",
        "    self.out = self.gamma * xhat + self.beta\n",
        "    return self.out\n",
        "  \n",
        "  def parameters(self):\n",
        "    return [self.gamma, self.beta]\n",
        "\n",
        "torch.manual_seed(1337)\n",
        "module = LayerNorm1d(100)\n",
        "x = torch.randn(32, 100) # batch size 32 of 100-dimensional vectors\n",
        "x = module(x)\n",
        "x.shape"
      ],
      "metadata": {
        "colab": {
          "base_uri": "https://localhost:8080/"
        },
        "id": "2Num7sX9CKOH",
        "outputId": "cc8e68d2-f55e-4e89-d84d-bd64d2c3a17d"
      },
      "execution_count": 38,
      "outputs": [
        {
          "output_type": "execute_result",
          "data": {
            "text/plain": [
              "torch.Size([32, 100])"
            ]
          },
          "metadata": {},
          "execution_count": 38
        }
      ]
    },
    {
      "cell_type": "code",
      "source": [
        "x[:,0].mean(), x[:,0].std() # mean,std of one feature across all batch inputs"
      ],
      "metadata": {
        "colab": {
          "base_uri": "https://localhost:8080/"
        },
        "id": "633T2cmnW1uk",
        "outputId": "2594f8f4-bafb-4f04-c35b-db404f97eeac"
      },
      "execution_count": 39,
      "outputs": [
        {
          "output_type": "execute_result",
          "data": {
            "text/plain": [
              "(tensor(0.1469), tensor(0.8803))"
            ]
          },
          "metadata": {},
          "execution_count": 39
        }
      ]
    },
    {
      "cell_type": "code",
      "source": [
        "x[0,:].mean(), x[0,:].std() # mean,std of a single input from the batch, of its features"
      ],
      "metadata": {
        "colab": {
          "base_uri": "https://localhost:8080/"
        },
        "id": "LN9cK9BoXCYb",
        "outputId": "5ba215df-cadd-4256-e1fa-daaf71e19ec7"
      },
      "execution_count": 40,
      "outputs": [
        {
          "output_type": "execute_result",
          "data": {
            "text/plain": [
              "(tensor(-9.5367e-09), tensor(1.0000))"
            ]
          },
          "metadata": {},
          "execution_count": 40
        }
      ]
    },
    {
      "cell_type": "code",
      "source": [
        "# French to English translation example:\n",
        "\n",
        "# <--------- ENCODE ------------------><--------------- DECODE ----------------->\n",
        "# les réseaux de neurones sont géniaux! <START> neural networks are awesome!<END>\n",
        "\n"
      ],
      "metadata": {
        "id": "dRJH6wM_XFfU"
      },
      "execution_count": 41,
      "outputs": []
    },
    {
      "cell_type": "markdown",
      "source": [
        "### Full finished code, for reference\n",
        "\n",
        "You may want to refer directly to the git repo instead though."
      ],
      "metadata": {
        "id": "ZcvKeBXoZFOY"
      }
    },
    {
      "cell_type": "code",
      "source": [
        "import torch\n",
        "import torch.nn as nn\n",
        "from torch.nn import functional as F\n",
        "\n",
        "# hyperparameters\n",
        "batch_size = 16 # how many independent sequences will we process in parallel?\n",
        "block_size = 32 # what is the maximum context length for predictions?\n",
        "max_iters = 10000\n",
        "eval_interval = 100\n",
        "learning_rate = 1e-3\n",
        "device = 'cuda' if torch.cuda.is_available() else 'cpu'\n",
        "eval_iters = 200\n",
        "n_embd = 64\n",
        "n_head = 4\n",
        "n_layer = 4\n",
        "dropout = 0.0\n",
        "# ------------\n",
        "\n",
        "torch.manual_seed(1337)\n",
        "\n",
        "\n",
        "\n",
        "# here are all the unique characters that occur in this text\n",
        "chars = sorted(list(set(text)))\n",
        "vocab_size = len(chars)\n",
        "# create a mapping from characters to integers\n",
        "stoi = { ch:i for i,ch in enumerate(chars) }\n",
        "itos = { i:ch for i,ch in enumerate(chars) }\n",
        "encode = lambda s: [stoi[c] for c in s] # encoder: take a string, output a list of integers\n",
        "decode = lambda l: ''.join([itos[i] for i in l]) # decoder: take a list of integers, output a string\n",
        "\n",
        "# Train and test splits\n",
        "data = torch.tensor(encode(text), dtype=torch.long)\n",
        "n = int(0.9*len(data)) # first 90% will be train, rest val\n",
        "train_data = data[:n]\n",
        "val_data = data[n:]\n",
        "\n",
        "# data loading\n",
        "def get_batch(split):\n",
        "    # generate a small batch of data of inputs x and targets y\n",
        "    data = train_data if split == 'train' else val_data\n",
        "    ix = torch.randint(len(data) - block_size, (batch_size,))\n",
        "    x = torch.stack([data[i:i+block_size] for i in ix])\n",
        "    y = torch.stack([data[i+1:i+block_size+1] for i in ix])\n",
        "    x, y = x.to(device), y.to(device)\n",
        "    return x, y\n",
        "\n",
        "@torch.no_grad()\n",
        "def estimate_loss():\n",
        "    out = {}\n",
        "    model.eval()\n",
        "    for split in ['train', 'val']:\n",
        "        losses = torch.zeros(eval_iters)\n",
        "        for k in range(eval_iters):\n",
        "            X, Y = get_batch(split)\n",
        "            logits, loss = model(X, Y)\n",
        "            losses[k] = loss.item()\n",
        "        out[split] = losses.mean()\n",
        "    model.train()\n",
        "    return out\n",
        "\n",
        "class Head(nn.Module):\n",
        "    \"\"\" one head of self-attention \"\"\"\n",
        "\n",
        "    def __init__(self, head_size):\n",
        "        super().__init__()\n",
        "        self.key = nn.Linear(n_embd, head_size, bias=False)\n",
        "        self.query = nn.Linear(n_embd, head_size, bias=False)\n",
        "        self.value = nn.Linear(n_embd, head_size, bias=False)\n",
        "        self.register_buffer('tril', torch.tril(torch.ones(block_size, block_size)))\n",
        "\n",
        "        self.dropout = nn.Dropout(dropout)\n",
        "\n",
        "    def forward(self, x):\n",
        "        B,T,C = x.shape\n",
        "        k = self.key(x)   # (B,T,C)\n",
        "        q = self.query(x) # (B,T,C)\n",
        "        # compute attention scores (\"affinities\")\n",
        "        wei = q @ k.transpose(-2,-1) * C**-0.5 # (B, T, C) @ (B, C, T) -> (B, T, T)\n",
        "        wei = wei.masked_fill(self.tril[:T, :T] == 0, float('-inf')) # (B, T, T)\n",
        "        wei = F.softmax(wei, dim=-1) # (B, T, T)\n",
        "        wei = self.dropout(wei)\n",
        "        # perform the weighted aggregation of the values\n",
        "        v = self.value(x) # (B,T,C)\n",
        "        out = wei @ v # (B, T, T) @ (B, T, C) -> (B, T, C)\n",
        "        return out\n",
        "\n",
        "class MultiHeadAttention(nn.Module):\n",
        "    \"\"\" multiple heads of self-attention in parallel \"\"\"\n",
        "\n",
        "    def __init__(self, num_heads, head_size):\n",
        "        super().__init__()\n",
        "        self.heads = nn.ModuleList([Head(head_size) for _ in range(num_heads)])\n",
        "        self.proj = nn.Linear(n_embd, n_embd)\n",
        "        self.dropout = nn.Dropout(dropout)\n",
        "\n",
        "    def forward(self, x):\n",
        "        out = torch.cat([h(x) for h in self.heads], dim=-1)\n",
        "        out = self.dropout(self.proj(out))\n",
        "        return out\n",
        "\n",
        "class FeedFoward(nn.Module):\n",
        "    \"\"\" a simple linear layer followed by a non-linearity \"\"\"\n",
        "\n",
        "    def __init__(self, n_embd):\n",
        "        super().__init__()\n",
        "        self.net = nn.Sequential(\n",
        "            nn.Linear(n_embd, 4 * n_embd),\n",
        "            nn.ReLU(),\n",
        "            nn.Linear(4 * n_embd, n_embd),\n",
        "            nn.Dropout(dropout),\n",
        "        )\n",
        "\n",
        "    def forward(self, x):\n",
        "        return self.net(x)\n",
        "\n",
        "class Block(nn.Module):\n",
        "    \"\"\" Transformer block: communication followed by computation \"\"\"\n",
        "\n",
        "    def __init__(self, n_embd, n_head):\n",
        "        # n_embd: embedding dimension, n_head: the number of heads we'd like\n",
        "        super().__init__()\n",
        "        head_size = n_embd // n_head\n",
        "        self.sa = MultiHeadAttention(n_head, head_size)\n",
        "        self.ffwd = FeedFoward(n_embd)\n",
        "        self.ln1 = nn.LayerNorm(n_embd)\n",
        "        self.ln2 = nn.LayerNorm(n_embd)\n",
        "\n",
        "    def forward(self, x):\n",
        "        x = x + self.sa(self.ln1(x))\n",
        "        x = x + self.ffwd(self.ln2(x))\n",
        "        return x\n",
        "\n",
        "# super simple bigram model\n",
        "class BigramLanguageModel(nn.Module):\n",
        "\n",
        "    def __init__(self):\n",
        "        super().__init__()\n",
        "        # each token directly reads off the logits for the next token from a lookup table\n",
        "        self.token_embedding_table = nn.Embedding(vocab_size, n_embd)\n",
        "        self.position_embedding_table = nn.Embedding(block_size, n_embd)\n",
        "        self.blocks = nn.Sequential(*[Block(n_embd, n_head=n_head) for _ in range(n_layer)])\n",
        "        self.ln_f = nn.LayerNorm(n_embd) # final layer norm\n",
        "        self.lm_head = nn.Linear(n_embd, vocab_size)\n",
        "\n",
        "    def forward(self, idx, targets=None):\n",
        "        B, T = idx.shape\n",
        "\n",
        "        # idx and targets are both (B,T) tensor of integers\n",
        "        tok_emb = self.token_embedding_table(idx) # (B,T,C)\n",
        "        pos_emb = self.position_embedding_table(torch.arange(T, device=device)) # (T,C)\n",
        "        x = tok_emb + pos_emb # (B,T,C)\n",
        "        x = self.blocks(x) # (B,T,C)\n",
        "        x = self.ln_f(x) # (B,T,C)\n",
        "        logits = self.lm_head(x) # (B,T,vocab_size)\n",
        "\n",
        "        if targets is None:\n",
        "            loss = None\n",
        "        else:\n",
        "            B, T, C = logits.shape\n",
        "            logits = logits.view(B*T, C)\n",
        "            targets = targets.view(B*T)\n",
        "            loss = F.cross_entropy(logits, targets)\n",
        "\n",
        "        return logits, loss\n",
        "\n",
        "    def generate(self, idx, max_new_tokens):\n",
        "        # idx is (B, T) array of indices in the current context\n",
        "        for _ in range(max_new_tokens):\n",
        "            # crop idx to the last block_size tokens\n",
        "            idx_cond = idx[:, -block_size:]\n",
        "            # get the predictions\n",
        "            logits, loss = self(idx_cond)\n",
        "            # focus only on the last time step\n",
        "            logits = logits[:, -1, :] # becomes (B, C)\n",
        "            # apply softmax to get probabilities\n",
        "            probs = F.softmax(logits, dim=-1) # (B, C)\n",
        "            # sample from the distribution\n",
        "            idx_next = torch.multinomial(probs, num_samples=1) # (B, 1)\n",
        "            # append sampled index to the running sequence\n",
        "            idx = torch.cat((idx, idx_next), dim=1) # (B, T+1)\n",
        "        return idx\n",
        "\n",
        "model = BigramLanguageModel()\n",
        "m = model.to(device)\n",
        "# print the number of parameters in the model\n",
        "print(sum(p.numel() for p in m.parameters())/1e6, 'M parameters')\n",
        "\n",
        "# create a PyTorch optimizer\n",
        "optimizer = torch.optim.AdamW(model.parameters(), lr=learning_rate)\n",
        "\n",
        "for iter in range(max_iters):\n",
        "\n",
        "    # every once in a while evaluate the loss on train and val sets\n",
        "    if iter % eval_interval == 0 or iter == max_iters - 1:\n",
        "        losses = estimate_loss()\n",
        "        print(f\"step {iter}: train loss {losses['train']:.4f}, val loss {losses['val']:.4f}\")\n",
        "\n",
        "    # sample a batch of data\n",
        "    xb, yb = get_batch('train')\n",
        "\n",
        "    # evaluate the loss\n",
        "    logits, loss = model(xb, yb)\n",
        "    optimizer.zero_grad(set_to_none=True)\n",
        "    loss.backward()\n",
        "    optimizer.step()\n",
        "\n",
        "# generate from the model\n",
        "context = torch.zeros((1, 1), dtype=torch.long, device=device)\n",
        "print(decode(m.generate(context, max_new_tokens=2000)[0].tolist()))\n"
      ],
      "metadata": {
        "colab": {
          "base_uri": "https://localhost:8080/"
        },
        "id": "hoelkOrFY8bN",
        "outputId": "9d06c27d-e7f6-4a44-da0b-86d196fe64b7"
      },
      "execution_count": 45,
      "outputs": [
        {
          "output_type": "stream",
          "name": "stdout",
          "text": [
            "0.211922 M parameters\n",
            "step 0: train loss 4.5792, val loss 4.5725\n",
            "step 100: train loss 2.6542, val loss 2.6581\n",
            "step 200: train loss 2.4859, val loss 2.5204\n",
            "step 300: train loss 2.3945, val loss 2.4186\n",
            "step 400: train loss 2.3108, val loss 2.3587\n",
            "step 500: train loss 2.2274, val loss 2.2479\n",
            "step 600: train loss 2.1409, val loss 2.1865\n",
            "step 700: train loss 2.0844, val loss 2.1373\n",
            "step 800: train loss 2.0314, val loss 2.0777\n",
            "step 900: train loss 1.9792, val loss 2.0405\n",
            "step 1000: train loss 1.9334, val loss 2.0108\n",
            "step 1100: train loss 1.9065, val loss 1.9696\n",
            "step 1200: train loss 1.8758, val loss 1.9437\n",
            "step 1300: train loss 1.8205, val loss 1.8868\n",
            "step 1400: train loss 1.7995, val loss 1.8576\n",
            "step 1500: train loss 1.7694, val loss 1.8278\n",
            "step 1600: train loss 1.7437, val loss 1.8134\n",
            "step 1700: train loss 1.7478, val loss 1.7913\n",
            "step 1800: train loss 1.7135, val loss 1.7797\n",
            "step 1900: train loss 1.6965, val loss 1.7716\n",
            "step 2000: train loss 1.6728, val loss 1.7480\n",
            "step 2100: train loss 1.6535, val loss 1.7218\n",
            "step 2200: train loss 1.6376, val loss 1.7242\n",
            "step 2300: train loss 1.6302, val loss 1.7003\n",
            "step 2400: train loss 1.6169, val loss 1.6828\n",
            "step 2500: train loss 1.5924, val loss 1.6699\n",
            "step 2600: train loss 1.5865, val loss 1.6679\n",
            "step 2700: train loss 1.5787, val loss 1.6729\n",
            "step 2800: train loss 1.5727, val loss 1.6549\n",
            "step 2900: train loss 1.5572, val loss 1.6450\n",
            "step 3000: train loss 1.5595, val loss 1.6325\n",
            "step 3100: train loss 1.5515, val loss 1.6281\n",
            "step 3200: train loss 1.5411, val loss 1.6268\n",
            "step 3300: train loss 1.5229, val loss 1.6082\n",
            "step 3400: train loss 1.5187, val loss 1.6200\n",
            "step 3500: train loss 1.5067, val loss 1.5853\n",
            "step 3600: train loss 1.5105, val loss 1.5909\n",
            "step 3700: train loss 1.4940, val loss 1.5860\n",
            "step 3800: train loss 1.5010, val loss 1.5670\n",
            "step 3900: train loss 1.4869, val loss 1.5645\n",
            "step 4000: train loss 1.4866, val loss 1.5684\n",
            "step 4100: train loss 1.4742, val loss 1.5644\n",
            "step 4200: train loss 1.4670, val loss 1.5599\n",
            "step 4300: train loss 1.4740, val loss 1.5633\n",
            "step 4400: train loss 1.4686, val loss 1.5658\n",
            "step 4500: train loss 1.4612, val loss 1.5535\n",
            "step 4600: train loss 1.4752, val loss 1.5373\n",
            "step 4700: train loss 1.4548, val loss 1.5460\n",
            "step 4800: train loss 1.4574, val loss 1.5309\n",
            "step 4900: train loss 1.4463, val loss 1.5300\n",
            "step 5000: train loss 1.4522, val loss 1.5305\n",
            "step 5100: train loss 1.4205, val loss 1.5107\n",
            "step 5200: train loss 1.4507, val loss 1.5142\n",
            "step 5300: train loss 1.4280, val loss 1.5283\n",
            "step 5400: train loss 1.4407, val loss 1.5127\n",
            "step 5500: train loss 1.4289, val loss 1.5129\n",
            "step 5600: train loss 1.4169, val loss 1.5142\n",
            "step 5700: train loss 1.4224, val loss 1.5152\n",
            "step 5800: train loss 1.4241, val loss 1.5121\n",
            "step 5900: train loss 1.4150, val loss 1.5057\n",
            "step 6000: train loss 1.4105, val loss 1.4991\n",
            "step 6100: train loss 1.4238, val loss 1.4976\n",
            "step 6200: train loss 1.4107, val loss 1.4895\n",
            "step 6300: train loss 1.3994, val loss 1.4730\n",
            "step 6400: train loss 1.3983, val loss 1.4835\n",
            "step 6500: train loss 1.3953, val loss 1.4780\n",
            "step 6600: train loss 1.4047, val loss 1.4804\n",
            "step 6700: train loss 1.3990, val loss 1.4819\n",
            "step 6800: train loss 1.3945, val loss 1.4657\n",
            "step 6900: train loss 1.3876, val loss 1.4758\n",
            "step 7000: train loss 1.3894, val loss 1.4769\n",
            "step 7100: train loss 1.3873, val loss 1.4827\n",
            "step 7200: train loss 1.3778, val loss 1.4812\n",
            "step 7300: train loss 1.3878, val loss 1.4573\n",
            "step 7400: train loss 1.3656, val loss 1.4631\n",
            "step 7500: train loss 1.3690, val loss 1.4651\n",
            "step 7600: train loss 1.3848, val loss 1.4639\n",
            "step 7700: train loss 1.3664, val loss 1.4556\n",
            "step 7800: train loss 1.3813, val loss 1.4564\n",
            "step 7900: train loss 1.3662, val loss 1.4486\n",
            "step 8000: train loss 1.3624, val loss 1.4594\n",
            "step 8100: train loss 1.3626, val loss 1.4714\n",
            "step 8200: train loss 1.3484, val loss 1.4549\n",
            "step 8300: train loss 1.3691, val loss 1.4723\n",
            "step 8400: train loss 1.3554, val loss 1.4502\n",
            "step 8500: train loss 1.3798, val loss 1.4526\n",
            "step 8600: train loss 1.3635, val loss 1.4481\n",
            "step 8700: train loss 1.3512, val loss 1.4521\n",
            "step 8800: train loss 1.3502, val loss 1.4441\n",
            "step 8900: train loss 1.3563, val loss 1.4437\n",
            "step 9000: train loss 1.3425, val loss 1.4372\n",
            "step 9100: train loss 1.3547, val loss 1.4393\n",
            "step 9200: train loss 1.3459, val loss 1.4418\n",
            "step 9300: train loss 1.3468, val loss 1.4412\n",
            "step 9400: train loss 1.3585, val loss 1.4496\n",
            "step 9500: train loss 1.3413, val loss 1.4401\n",
            "step 9600: train loss 1.3465, val loss 1.4288\n",
            "step 9700: train loss 1.3295, val loss 1.4249\n",
            "step 9800: train loss 1.3495, val loss 1.4535\n",
            "step 9900: train loss 1.3408, val loss 1.4315\n",
            "step 9999: train loss 1.3339, val loss 1.4364\n",
            "\n",
            "Selecharical than group by pipovicidic at least the froction vehicle \n",
            "Llayesquiphore coolagule or to galk processein\n",
            "with prodication with ord ignitions\n",
            "The with contact apparatus\n",
            "Apparatus using excessive displayers\n",
            "Polyolid on raiginally circuits spinate-connecting with interculiar position power-fore light tubes, electropes, glases, e.g. type\n",
            "Choncycly- boroorw the wallyh addiders \n",
            "with gording positoly\n",
            "Absorbing control the not teransly\n",
            "Geneto-concrettrile passons one or rein to tat, ervipus for innecting movement, e.g. which the nitroged in a chaight glas or vertical to an end explayers at least intending the like with\n",
            "with contact of scopenIng part, e.g. by chicalon starting device for in containing mixtures; 5o-ought-row halkens, stypers, or zenels; NETCH Leg sypets evae conjacting\n",
            "rods; Detyces\n",
            "Mirroces\n",
            "by sclopsying drown-bosh of the seprooms\n",
            "cpolyamination only\n",
            "Cooling or hozz O gearing sides\n",
            "Aziners by rods or vetation haw-smoke of ellutar container \n",
            "Alcromocides from wall, rotating carbocytic rings\n",
            "Polymerised rolls\n",
            "Non-firction of more tyro a dissively-uto-traccular in type extripmers\n",
            "using photroducing soluton\n",
            "with a controlling contacts \n",
            "Grynes\n",
            "Incorposed or goo-seconal having hoto water dust-sed of head-lock-three, e.g. shape to with equipment saw ins; Hagk engaging fuel axis and connection with elements being antertical articlating axis, closured polysed control liquid engs of an lubricating drying one subborost disibles; YSICILE NOWED-PLICGS OR COION, 2, D08B0021522000000% flubresth\n",
            "Measuring electrical or edgy rings or fylins having condensed characterised by the with the filter fror slidably of the fares, e.gther system, e.g. adjacent\n",
            "with devices for ime stomally ending actuation intennaluminium, or inlided cock-up deriving the fluid \n",
            "Blower cylinders characterist \n",
            "Flet\n",
            "on water-or framers\n",
            "Pivoted coolicators HO3TI0\n",
            "FINALLILE 3 OR LO \n",
            "Components of at heterocyclic cylinders\n",
            "in a way fooths or peculiar\n",
            "Substituted and-rroids whereint mattering on\n"
          ]
        }
      ]
    },
    {
      "cell_type": "code",
      "source": [
        "import torch\n",
        "text_prompt = \" related superheat sensing                     \"\n",
        "data = torch.tensor(encode(text_prompt), dtype=torch.long)\n",
        "ix =torch.randint(len(data)-block_size,(batch_size,))\n",
        "x = torch.stack([data[i:i+block_size] for i in ix])\n",
        "print(decode(m.generate(x, max_new_tokens=1000)[0].tolist()))"
      ],
      "metadata": {
        "id": "fjjvMifYZf7x",
        "colab": {
          "base_uri": "https://localhost:8080/"
        },
        "outputId": "e2a70ad0-ea41-4c29-a32c-9ec6b108c885"
      },
      "execution_count": 47,
      "outputs": [
        {
          "output_type": "stream",
          "name": "stdout",
          "text": [
            "perheat sensing                 obtainete withmiter, e.g. Coloth\n",
            "Cords Skeleton\n",
            "Thickines\n",
            "with is and the tright or hetero atoms\n",
            "having blood, or colloveled withmils fluid, e.g. for using GAS anthrost plutral, aromissilar container\n",
            "contacts; Croating or position fhoces overlocyes\n",
            "with edepring michanble tensitutith oxygen or uposition \n",
            "operating filters\n",
            "Dirous\n",
            "Boltant-Adhesive, e.g. parts, not oxygen-radised compacity, e.g. locks\n",
            "Preceptyther containing over groups; Arrangements to perior ploughts\n",
            "awing devices for inces being the flow; Oil\n",
            "Sucoused, e.g. hydrococyclonic rings\n",
            "with high a charge to charide ight-loders for this torbity of fuel\n",
            "Posbitalcyhydric contautoght of electrophileve or plughers\n",
            "Trimpersible movable both raw, section, or or socyclic groups air anims or such pressure, e.g. of wire heter in\n",
            "hydrons\n",
            "companuming devices for to furns for mowererls, not havided from other their curtterce\n",
            "containing vehicle arranged rings\n",
            "Processes \n",
            "Electrical to te expandcent a the froxy\n",
            "the form or locking-optecedica\n"
          ]
        }
      ]
    },
    {
      "cell_type": "code",
      "source": [],
      "metadata": {
        "id": "8O5Kbu9BNXxz"
      },
      "execution_count": null,
      "outputs": []
    }
  ]
}